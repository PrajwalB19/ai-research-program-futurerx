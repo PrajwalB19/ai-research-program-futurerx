{
  "cells": [
    {
      "cell_type": "markdown",
      "metadata": {},
      "source": [
        "## Import Modules"
      ]
    },
    {
      "cell_type": "code",
      "execution_count": 80,
      "metadata": {
        "id": "82-TOa5kT6o2"
      },
      "outputs": [],
      "source": [
        "import pandas as pd\n",
        "import numpy as np\n",
        "import seaborn as sns\n",
        "import matplotlib.pyplot as plt\n",
        "import os\n",
        "\n",
        "# Data Resampling\n",
        "from sklearn.model_selection import train_test_split\n",
        "\n",
        "# 1. Logistic Regression\n",
        "from sklearn.linear_model import LogisticRegression\n",
        "\n",
        "# 2. K-Nearest Neighbors (KNN)\n",
        "from sklearn.neighbors import KNeighborsClassifier\n",
        "\n",
        "# 3. Decision Tree\n",
        "from sklearn.tree import DecisionTreeClassifier\n",
        "\n",
        "# 4. Random Forest\n",
        "from sklearn.ensemble import RandomForestClassifier\n",
        "\n",
        "# 5. Support Vector Machine (SVM)\n",
        "from sklearn.svm import SVC\n",
        "\n",
        "# 6. Naive Bayes\n",
        "from sklearn.naive_bayes import GaussianNB\n",
        "\n",
        "# 7. XGBoost\n",
        "from xgboost import XGBClassifier\n",
        "from sklearn.model_selection import RandomizedSearchCV\n",
        "from sklearn.model_selection import KFold\n",
        "from scipy.stats import uniform, randint\n",
        "from sklearn.metrics import make_scorer, accuracy_score, recall_score, precision_score, f1_score, roc_auc_score\n",
        "\n",
        "# Performance Measures\n",
        "from sklearn.metrics import accuracy_score, classification_report, confusion_matrix\n",
        "from sklearn.preprocessing import StandardScaler"
      ]
    },
    {
      "cell_type": "markdown",
      "metadata": {},
      "source": [
        "## Load Data"
      ]
    },
    {
      "cell_type": "code",
      "execution_count": 81,
      "metadata": {
        "id": "FDEaT8KaVty3"
      },
      "outputs": [],
      "source": [
        "file_name = os.path.join(\"assets\", \"data.csv\")\n",
        "df_original = pd.read_csv(file_name)"
      ]
    },
    {
      "cell_type": "code",
      "execution_count": 82,
      "metadata": {
        "colab": {
          "base_uri": "https://localhost:8080/",
          "height": 423
        },
        "id": "SRdvGZl_Vz98",
        "outputId": "2884bba5-a57a-4d7f-b64c-e2ea66e23f71"
      },
      "outputs": [
        {
          "data": {
            "application/vnd.microsoft.datawrangler.viewer.v0+json": {
              "columns": [
                {
                  "name": "index",
                  "rawType": "int64",
                  "type": "integer"
                },
                {
                  "name": "sample_id",
                  "rawType": "object",
                  "type": "string"
                },
                {
                  "name": "patient_cohort",
                  "rawType": "object",
                  "type": "string"
                },
                {
                  "name": "sample_origin",
                  "rawType": "object",
                  "type": "string"
                },
                {
                  "name": "age",
                  "rawType": "int64",
                  "type": "integer"
                },
                {
                  "name": "sex",
                  "rawType": "object",
                  "type": "string"
                },
                {
                  "name": "diagnosis",
                  "rawType": "int64",
                  "type": "integer"
                },
                {
                  "name": "stage",
                  "rawType": "object",
                  "type": "unknown"
                },
                {
                  "name": "benign_sample_diagnosis",
                  "rawType": "object",
                  "type": "unknown"
                },
                {
                  "name": "plasma_CA19_9",
                  "rawType": "float64",
                  "type": "float"
                },
                {
                  "name": "creatinine",
                  "rawType": "float64",
                  "type": "float"
                },
                {
                  "name": "LYVE1",
                  "rawType": "float64",
                  "type": "float"
                },
                {
                  "name": "REG1B",
                  "rawType": "float64",
                  "type": "float"
                },
                {
                  "name": "TFF1",
                  "rawType": "float64",
                  "type": "float"
                },
                {
                  "name": "REG1A",
                  "rawType": "float64",
                  "type": "float"
                }
              ],
              "ref": "190f9c17-10b5-440a-8415-1d524ccc41a5",
              "rows": [
                [
                  "0",
                  "S1",
                  "Cohort1",
                  "BPTB",
                  "33",
                  "F",
                  "1",
                  null,
                  null,
                  "11.7",
                  "1.83222",
                  "0.8932192",
                  "52.94884",
                  "654.282174",
                  "1262.0"
                ],
                [
                  "1",
                  "S10",
                  "Cohort1",
                  "BPTB",
                  "81",
                  "F",
                  "1",
                  null,
                  null,
                  null,
                  "0.97266",
                  "2.037585",
                  "94.46703",
                  "209.48825",
                  "228.407"
                ],
                [
                  "2",
                  "S100",
                  "Cohort2",
                  "BPTB",
                  "51",
                  "M",
                  "1",
                  null,
                  null,
                  "7.0",
                  "0.78039",
                  "0.1455889",
                  "102.366",
                  "461.141",
                  null
                ],
                [
                  "3",
                  "S101",
                  "Cohort2",
                  "BPTB",
                  "61",
                  "M",
                  "1",
                  null,
                  null,
                  "8.0",
                  "0.70122",
                  "0.00280488",
                  "60.579",
                  "142.95",
                  null
                ],
                [
                  "4",
                  "S102",
                  "Cohort2",
                  "BPTB",
                  "62",
                  "M",
                  "1",
                  null,
                  null,
                  "9.0",
                  "0.21489",
                  "0.00085956",
                  "65.54",
                  "41.088",
                  null
                ],
                [
                  "5",
                  "S103",
                  "Cohort2",
                  "BPTB",
                  "53",
                  "M",
                  "1",
                  null,
                  null,
                  null,
                  "0.84825",
                  "0.003393",
                  "62.126",
                  "59.793",
                  null
                ],
                [
                  "6",
                  "S104",
                  "Cohort2",
                  "BPTB",
                  "70",
                  "M",
                  "1",
                  null,
                  null,
                  null,
                  "0.62205",
                  "0.1743808",
                  "152.277",
                  "117.516",
                  null
                ],
                [
                  "7",
                  "S105",
                  "Cohort2",
                  "BPTB",
                  "58",
                  "F",
                  "1",
                  null,
                  null,
                  "11.0",
                  "0.89349",
                  "0.00357396",
                  "3.73",
                  "40.294",
                  null
                ],
                [
                  "8",
                  "S106",
                  "Cohort2",
                  "BPTB",
                  "59",
                  "F",
                  "1",
                  null,
                  null,
                  null,
                  "0.48633",
                  "0.00194532",
                  "7.021",
                  "26.782",
                  null
                ],
                [
                  "9",
                  "S107",
                  "Cohort2",
                  "BPTB",
                  "56",
                  "F",
                  "1",
                  null,
                  null,
                  "24.0",
                  "0.61074",
                  "0.2787785",
                  "83.928",
                  "19.185",
                  null
                ],
                [
                  "10",
                  "S108",
                  "Cohort2",
                  "BPTB",
                  "77",
                  "F",
                  "1",
                  null,
                  null,
                  null,
                  "0.29406",
                  "0.00117624",
                  "6.218",
                  "28.297",
                  null
                ],
                [
                  "11",
                  "S109",
                  "Cohort2",
                  "BPTB",
                  "71",
                  "M",
                  "1",
                  null,
                  null,
                  "23.0",
                  "1.05183",
                  "0.8603368",
                  "243.082",
                  "608.284",
                  null
                ],
                [
                  "12",
                  "S11",
                  "Cohort1",
                  "BPTB",
                  "49",
                  "F",
                  "1",
                  null,
                  null,
                  null,
                  "0.85956",
                  "1.416314",
                  "151.83077",
                  "74.1899025",
                  "505.571"
                ],
                [
                  "13",
                  "S110",
                  "Cohort2",
                  "BPTB",
                  "53",
                  "M",
                  "1",
                  null,
                  null,
                  "7.0",
                  "1.91139",
                  "1.516773",
                  "150.89",
                  "590.686",
                  null
                ],
                [
                  "14",
                  "S111",
                  "Cohort2",
                  "BPTB",
                  "56",
                  "F",
                  "1",
                  null,
                  null,
                  "12.0",
                  "0.91611",
                  "0.5996449",
                  "93.811",
                  "93.576",
                  null
                ],
                [
                  "15",
                  "S112",
                  "Cohort2",
                  "BPTB",
                  "60",
                  "F",
                  "1",
                  null,
                  null,
                  "28.0",
                  "0.50895",
                  "0.0020358",
                  "24.366",
                  "19.698",
                  null
                ],
                [
                  "16",
                  "S113",
                  "Cohort2",
                  "BPTB",
                  "69",
                  "F",
                  "1",
                  null,
                  null,
                  "9.0",
                  "0.41847",
                  "0.00167388",
                  "17.102",
                  "0.03264066",
                  null
                ],
                [
                  "17",
                  "S114",
                  "Cohort2",
                  "BPTB",
                  "60",
                  "F",
                  "1",
                  null,
                  null,
                  "47.0",
                  "0.80301",
                  "0.00321204",
                  "3.588",
                  "30.071",
                  null
                ],
                [
                  "18",
                  "S115",
                  "Cohort2",
                  "BPTB",
                  "55",
                  "M",
                  "1",
                  null,
                  null,
                  "17.0",
                  "1.28934",
                  "2.285351",
                  "67.468",
                  "269.805",
                  null
                ],
                [
                  "19",
                  "S116",
                  "Cohort1",
                  "BPTB",
                  "28",
                  "F",
                  "1",
                  null,
                  null,
                  "8.7",
                  "0.50895",
                  "0.5830097",
                  "13.61906",
                  "267.193539",
                  "381.0"
                ],
                [
                  "20",
                  "S117",
                  "Cohort1",
                  "BPTB",
                  "54",
                  "F",
                  "1",
                  null,
                  null,
                  null,
                  "1.2441",
                  "0.0049764",
                  "5.5073501",
                  "193.145661",
                  "113.0"
                ],
                [
                  "21",
                  "S118",
                  "Cohort1",
                  "BPTB",
                  "50",
                  "F",
                  "1",
                  null,
                  null,
                  "8.7",
                  "0.95004",
                  "0.00380016",
                  "56.399133",
                  "192.258882",
                  "137.0"
                ],
                [
                  "22",
                  "S119",
                  "Cohort1",
                  "BPTB",
                  "40",
                  "M",
                  "1",
                  null,
                  null,
                  null,
                  "0.76908",
                  "0.6539844",
                  "14.607579",
                  "341.2674531",
                  null
                ],
                [
                  "23",
                  "S12",
                  "Cohort1",
                  "BPTB",
                  "74",
                  "F",
                  "1",
                  null,
                  null,
                  null,
                  "0.31668",
                  "0.5830097",
                  "25.52035",
                  "146.588598",
                  "111.531"
                ],
                [
                  "24",
                  "S120",
                  "Cohort1",
                  "BPTB",
                  "63",
                  "M",
                  "1",
                  null,
                  null,
                  null,
                  "0.75777",
                  "2.44018",
                  "21.22948",
                  "109.42115",
                  "903.0"
                ],
                [
                  "25",
                  "S121",
                  "Cohort1",
                  "BPTB",
                  "50",
                  "M",
                  "1",
                  null,
                  null,
                  null,
                  "0.78039",
                  "1.044411",
                  "7.355656",
                  "250.344294",
                  "149.0"
                ],
                [
                  "26",
                  "S122",
                  "Cohort1",
                  "BPTB",
                  "47",
                  "M",
                  "1",
                  null,
                  null,
                  null,
                  "0.95004",
                  "0.7486172",
                  "19.020988",
                  "248.570736",
                  "736.0"
                ],
                [
                  "27",
                  "S123",
                  "Cohort1",
                  "BPTB",
                  "45",
                  "M",
                  "1",
                  null,
                  null,
                  "9.6",
                  "1.3572",
                  "2.392864",
                  "28.509285",
                  "353.656656",
                  "563.0"
                ],
                [
                  "28",
                  "S124",
                  "Cohort1",
                  "BPTB",
                  "35",
                  "M",
                  "1",
                  null,
                  null,
                  "4.0",
                  "0.24882",
                  "0.00099528",
                  "9.245166",
                  "6.03070104",
                  "624.0"
                ],
                [
                  "29",
                  "S125",
                  "Cohort1",
                  "BPTB",
                  "30",
                  "M",
                  "1",
                  null,
                  null,
                  "10.8",
                  "1.18755",
                  "1.600313",
                  "22.471281",
                  "299.11836",
                  "570.0"
                ],
                [
                  "30",
                  "S126",
                  "Cohort2",
                  "BPTB",
                  "48",
                  "F",
                  "1",
                  null,
                  null,
                  null,
                  "0.72384",
                  "0.00289536",
                  "5.354",
                  "43.343",
                  null
                ],
                [
                  "31",
                  "S127",
                  "Cohort2",
                  "BPTB",
                  "44",
                  "F",
                  "1",
                  null,
                  null,
                  null,
                  "1.22148",
                  "5.309197",
                  "21.965",
                  "971.553",
                  null
                ],
                [
                  "32",
                  "S128",
                  "Cohort2",
                  "BPTB",
                  "44",
                  "F",
                  "1",
                  null,
                  null,
                  null,
                  "1.17624",
                  "4.239308",
                  "7.62",
                  "436.361",
                  null
                ],
                [
                  "33",
                  "S129",
                  "Cohort2",
                  "BPTB",
                  "56",
                  "F",
                  "1",
                  null,
                  null,
                  null,
                  "0.13572",
                  "0.00054288",
                  "2.276",
                  "0.01058616",
                  null
                ],
                [
                  "34",
                  "S13",
                  "Cohort1",
                  "BPTB",
                  "58",
                  "F",
                  "1",
                  null,
                  null,
                  null,
                  "1.21017",
                  "1.008584",
                  "45.185693",
                  "268.967097",
                  "116.998"
                ],
                [
                  "35",
                  "S130",
                  "Cohort2",
                  "BPTB",
                  "44",
                  "F",
                  "1",
                  null,
                  null,
                  null,
                  "2.02449",
                  "6.925281",
                  "53.11",
                  "1274.49",
                  null
                ],
                [
                  "36",
                  "S131",
                  "Cohort2",
                  "BPTB",
                  "48",
                  "F",
                  "1",
                  null,
                  null,
                  null,
                  "0.15834",
                  "0.00063336",
                  "1.21",
                  "3.526",
                  null
                ],
                [
                  "37",
                  "S132",
                  "Cohort2",
                  "BPTB",
                  "48",
                  "F",
                  "1",
                  null,
                  null,
                  null,
                  "0.3393",
                  "0.0013572",
                  "1.907",
                  "3.044",
                  null
                ],
                [
                  "38",
                  "S133",
                  "Cohort2",
                  "BPTB",
                  "41",
                  "F",
                  "1",
                  null,
                  null,
                  null,
                  "0.10179",
                  "1.013824",
                  "2.795",
                  "1.82",
                  null
                ],
                [
                  "39",
                  "S134",
                  "Cohort2",
                  "BPTB",
                  "45",
                  "F",
                  "1",
                  null,
                  null,
                  null,
                  "0.85956",
                  "0.963804",
                  "29.522",
                  "363.076",
                  null
                ],
                [
                  "40",
                  "S135",
                  "Cohort2",
                  "BPTB",
                  "45",
                  "F",
                  "1",
                  null,
                  null,
                  null,
                  "0.59943",
                  "4.090239",
                  "15.328",
                  "67.711",
                  null
                ],
                [
                  "41",
                  "S136",
                  "Cohort2",
                  "BPTB",
                  "45",
                  "F",
                  "1",
                  null,
                  null,
                  null,
                  "0.58812",
                  "0.462653",
                  "3.612",
                  "34.237",
                  null
                ],
                [
                  "42",
                  "S137",
                  "Cohort2",
                  "BPTB",
                  "48",
                  "F",
                  "1",
                  null,
                  null,
                  null,
                  "1.05183",
                  "7.300192",
                  "118.325",
                  "1424.961",
                  null
                ],
                [
                  "43",
                  "S138",
                  "Cohort2",
                  "BPTB",
                  "89",
                  "F",
                  "1",
                  null,
                  null,
                  null,
                  "0.64467",
                  "6.836843",
                  "76.834",
                  "981.545",
                  null
                ],
                [
                  "44",
                  "S139",
                  "Cohort2",
                  "BPTB",
                  "87",
                  "M",
                  "1",
                  null,
                  null,
                  "0.05647592",
                  "0.06786",
                  "0.00027144",
                  "0.7303665",
                  "0.00529308",
                  null
                ],
                [
                  "45",
                  "S14",
                  "Cohort1",
                  "BPTB",
                  "50",
                  "F",
                  "1",
                  null,
                  null,
                  null,
                  "0.61074",
                  "0.1103106",
                  "16.43327",
                  "174.522858",
                  "103.184"
                ],
                [
                  "46",
                  "S140",
                  "Cohort2",
                  "BPTB",
                  "66",
                  "F",
                  "1",
                  null,
                  null,
                  "4.060258",
                  "0.75777",
                  "0.008919911",
                  "5.41987",
                  "8.919911",
                  null
                ],
                [
                  "47",
                  "S141",
                  "Cohort2",
                  "BPTB",
                  "59",
                  "M",
                  "1",
                  null,
                  null,
                  "0.908578",
                  "1.91139",
                  "0.06216421",
                  "50.1122",
                  "62.16421",
                  null
                ],
                [
                  "48",
                  "S142",
                  "Cohort2",
                  "BPTB",
                  "59",
                  "M",
                  "1",
                  null,
                  null,
                  "3.389304",
                  "1.26672",
                  "0.007113679",
                  "5.22589",
                  "7.113679",
                  null
                ],
                [
                  "49",
                  "S143",
                  "Cohort2",
                  "BPTB",
                  "36",
                  "F",
                  "1",
                  null,
                  null,
                  "5.128234",
                  "0.96135",
                  "0.01942577",
                  "47.254685",
                  "19.42577",
                  null
                ]
              ],
              "shape": {
                "columns": 14,
                "rows": 590
              }
            },
            "text/html": [
              "<div>\n",
              "<style scoped>\n",
              "    .dataframe tbody tr th:only-of-type {\n",
              "        vertical-align: middle;\n",
              "    }\n",
              "\n",
              "    .dataframe tbody tr th {\n",
              "        vertical-align: top;\n",
              "    }\n",
              "\n",
              "    .dataframe thead th {\n",
              "        text-align: right;\n",
              "    }\n",
              "</style>\n",
              "<table border=\"1\" class=\"dataframe\">\n",
              "  <thead>\n",
              "    <tr style=\"text-align: right;\">\n",
              "      <th></th>\n",
              "      <th>sample_id</th>\n",
              "      <th>patient_cohort</th>\n",
              "      <th>sample_origin</th>\n",
              "      <th>age</th>\n",
              "      <th>sex</th>\n",
              "      <th>diagnosis</th>\n",
              "      <th>stage</th>\n",
              "      <th>benign_sample_diagnosis</th>\n",
              "      <th>plasma_CA19_9</th>\n",
              "      <th>creatinine</th>\n",
              "      <th>LYVE1</th>\n",
              "      <th>REG1B</th>\n",
              "      <th>TFF1</th>\n",
              "      <th>REG1A</th>\n",
              "    </tr>\n",
              "  </thead>\n",
              "  <tbody>\n",
              "    <tr>\n",
              "      <th>0</th>\n",
              "      <td>S1</td>\n",
              "      <td>Cohort1</td>\n",
              "      <td>BPTB</td>\n",
              "      <td>33</td>\n",
              "      <td>F</td>\n",
              "      <td>1</td>\n",
              "      <td>NaN</td>\n",
              "      <td>NaN</td>\n",
              "      <td>11.7</td>\n",
              "      <td>1.83222</td>\n",
              "      <td>0.893219</td>\n",
              "      <td>52.948840</td>\n",
              "      <td>654.282174</td>\n",
              "      <td>1262.000</td>\n",
              "    </tr>\n",
              "    <tr>\n",
              "      <th>1</th>\n",
              "      <td>S10</td>\n",
              "      <td>Cohort1</td>\n",
              "      <td>BPTB</td>\n",
              "      <td>81</td>\n",
              "      <td>F</td>\n",
              "      <td>1</td>\n",
              "      <td>NaN</td>\n",
              "      <td>NaN</td>\n",
              "      <td>NaN</td>\n",
              "      <td>0.97266</td>\n",
              "      <td>2.037585</td>\n",
              "      <td>94.467030</td>\n",
              "      <td>209.488250</td>\n",
              "      <td>228.407</td>\n",
              "    </tr>\n",
              "    <tr>\n",
              "      <th>2</th>\n",
              "      <td>S100</td>\n",
              "      <td>Cohort2</td>\n",
              "      <td>BPTB</td>\n",
              "      <td>51</td>\n",
              "      <td>M</td>\n",
              "      <td>1</td>\n",
              "      <td>NaN</td>\n",
              "      <td>NaN</td>\n",
              "      <td>7.0</td>\n",
              "      <td>0.78039</td>\n",
              "      <td>0.145589</td>\n",
              "      <td>102.366000</td>\n",
              "      <td>461.141000</td>\n",
              "      <td>NaN</td>\n",
              "    </tr>\n",
              "    <tr>\n",
              "      <th>3</th>\n",
              "      <td>S101</td>\n",
              "      <td>Cohort2</td>\n",
              "      <td>BPTB</td>\n",
              "      <td>61</td>\n",
              "      <td>M</td>\n",
              "      <td>1</td>\n",
              "      <td>NaN</td>\n",
              "      <td>NaN</td>\n",
              "      <td>8.0</td>\n",
              "      <td>0.70122</td>\n",
              "      <td>0.002805</td>\n",
              "      <td>60.579000</td>\n",
              "      <td>142.950000</td>\n",
              "      <td>NaN</td>\n",
              "    </tr>\n",
              "    <tr>\n",
              "      <th>4</th>\n",
              "      <td>S102</td>\n",
              "      <td>Cohort2</td>\n",
              "      <td>BPTB</td>\n",
              "      <td>62</td>\n",
              "      <td>M</td>\n",
              "      <td>1</td>\n",
              "      <td>NaN</td>\n",
              "      <td>NaN</td>\n",
              "      <td>9.0</td>\n",
              "      <td>0.21489</td>\n",
              "      <td>0.000860</td>\n",
              "      <td>65.540000</td>\n",
              "      <td>41.088000</td>\n",
              "      <td>NaN</td>\n",
              "    </tr>\n",
              "    <tr>\n",
              "      <th>...</th>\n",
              "      <td>...</td>\n",
              "      <td>...</td>\n",
              "      <td>...</td>\n",
              "      <td>...</td>\n",
              "      <td>...</td>\n",
              "      <td>...</td>\n",
              "      <td>...</td>\n",
              "      <td>...</td>\n",
              "      <td>...</td>\n",
              "      <td>...</td>\n",
              "      <td>...</td>\n",
              "      <td>...</td>\n",
              "      <td>...</td>\n",
              "      <td>...</td>\n",
              "    </tr>\n",
              "    <tr>\n",
              "      <th>585</th>\n",
              "      <td>S549</td>\n",
              "      <td>Cohort2</td>\n",
              "      <td>BPTB</td>\n",
              "      <td>68</td>\n",
              "      <td>M</td>\n",
              "      <td>3</td>\n",
              "      <td>IV</td>\n",
              "      <td>NaN</td>\n",
              "      <td>NaN</td>\n",
              "      <td>0.52026</td>\n",
              "      <td>7.058209</td>\n",
              "      <td>156.241000</td>\n",
              "      <td>525.178000</td>\n",
              "      <td>NaN</td>\n",
              "    </tr>\n",
              "    <tr>\n",
              "      <th>586</th>\n",
              "      <td>S558</td>\n",
              "      <td>Cohort2</td>\n",
              "      <td>BPTB</td>\n",
              "      <td>71</td>\n",
              "      <td>F</td>\n",
              "      <td>3</td>\n",
              "      <td>IV</td>\n",
              "      <td>NaN</td>\n",
              "      <td>NaN</td>\n",
              "      <td>0.85956</td>\n",
              "      <td>8.341207</td>\n",
              "      <td>16.915000</td>\n",
              "      <td>245.947000</td>\n",
              "      <td>NaN</td>\n",
              "    </tr>\n",
              "    <tr>\n",
              "      <th>587</th>\n",
              "      <td>S560</td>\n",
              "      <td>Cohort2</td>\n",
              "      <td>BPTB</td>\n",
              "      <td>63</td>\n",
              "      <td>M</td>\n",
              "      <td>3</td>\n",
              "      <td>IV</td>\n",
              "      <td>NaN</td>\n",
              "      <td>NaN</td>\n",
              "      <td>1.36851</td>\n",
              "      <td>7.674707</td>\n",
              "      <td>289.701000</td>\n",
              "      <td>537.286000</td>\n",
              "      <td>NaN</td>\n",
              "    </tr>\n",
              "    <tr>\n",
              "      <th>588</th>\n",
              "      <td>S583</td>\n",
              "      <td>Cohort2</td>\n",
              "      <td>BPTB</td>\n",
              "      <td>75</td>\n",
              "      <td>F</td>\n",
              "      <td>3</td>\n",
              "      <td>IV</td>\n",
              "      <td>NaN</td>\n",
              "      <td>NaN</td>\n",
              "      <td>1.33458</td>\n",
              "      <td>8.206777</td>\n",
              "      <td>205.930000</td>\n",
              "      <td>722.523000</td>\n",
              "      <td>NaN</td>\n",
              "    </tr>\n",
              "    <tr>\n",
              "      <th>589</th>\n",
              "      <td>S590</td>\n",
              "      <td>Cohort1</td>\n",
              "      <td>BPTB</td>\n",
              "      <td>74</td>\n",
              "      <td>M</td>\n",
              "      <td>3</td>\n",
              "      <td>IV</td>\n",
              "      <td>NaN</td>\n",
              "      <td>1488.0</td>\n",
              "      <td>1.50423</td>\n",
              "      <td>8.200958</td>\n",
              "      <td>411.938275</td>\n",
              "      <td>2021.321078</td>\n",
              "      <td>13200.000</td>\n",
              "    </tr>\n",
              "  </tbody>\n",
              "</table>\n",
              "<p>590 rows × 14 columns</p>\n",
              "</div>"
            ],
            "text/plain": [
              "    sample_id patient_cohort sample_origin  age sex  diagnosis stage  \\\n",
              "0          S1        Cohort1          BPTB   33   F          1   NaN   \n",
              "1         S10        Cohort1          BPTB   81   F          1   NaN   \n",
              "2        S100        Cohort2          BPTB   51   M          1   NaN   \n",
              "3        S101        Cohort2          BPTB   61   M          1   NaN   \n",
              "4        S102        Cohort2          BPTB   62   M          1   NaN   \n",
              "..        ...            ...           ...  ...  ..        ...   ...   \n",
              "585      S549        Cohort2          BPTB   68   M          3    IV   \n",
              "586      S558        Cohort2          BPTB   71   F          3    IV   \n",
              "587      S560        Cohort2          BPTB   63   M          3    IV   \n",
              "588      S583        Cohort2          BPTB   75   F          3    IV   \n",
              "589      S590        Cohort1          BPTB   74   M          3    IV   \n",
              "\n",
              "    benign_sample_diagnosis  plasma_CA19_9  creatinine     LYVE1       REG1B  \\\n",
              "0                       NaN           11.7     1.83222  0.893219   52.948840   \n",
              "1                       NaN            NaN     0.97266  2.037585   94.467030   \n",
              "2                       NaN            7.0     0.78039  0.145589  102.366000   \n",
              "3                       NaN            8.0     0.70122  0.002805   60.579000   \n",
              "4                       NaN            9.0     0.21489  0.000860   65.540000   \n",
              "..                      ...            ...         ...       ...         ...   \n",
              "585                     NaN            NaN     0.52026  7.058209  156.241000   \n",
              "586                     NaN            NaN     0.85956  8.341207   16.915000   \n",
              "587                     NaN            NaN     1.36851  7.674707  289.701000   \n",
              "588                     NaN            NaN     1.33458  8.206777  205.930000   \n",
              "589                     NaN         1488.0     1.50423  8.200958  411.938275   \n",
              "\n",
              "            TFF1      REG1A  \n",
              "0     654.282174   1262.000  \n",
              "1     209.488250    228.407  \n",
              "2     461.141000        NaN  \n",
              "3     142.950000        NaN  \n",
              "4      41.088000        NaN  \n",
              "..           ...        ...  \n",
              "585   525.178000        NaN  \n",
              "586   245.947000        NaN  \n",
              "587   537.286000        NaN  \n",
              "588   722.523000        NaN  \n",
              "589  2021.321078  13200.000  \n",
              "\n",
              "[590 rows x 14 columns]"
            ]
          },
          "execution_count": 82,
          "metadata": {},
          "output_type": "execute_result"
        }
      ],
      "source": [
        "df_original"
      ]
    },
    {
      "cell_type": "code",
      "execution_count": 83,
      "metadata": {
        "id": "OFM6llBdV1Wb"
      },
      "outputs": [],
      "source": [
        "df = df_original.copy()"
      ]
    },
    {
      "cell_type": "markdown",
      "metadata": {},
      "source": [
        "## Data Preprocessing"
      ]
    },
    {
      "cell_type": "code",
      "execution_count": 84,
      "metadata": {
        "colab": {
          "base_uri": "https://localhost:8080/"
        },
        "id": "u44_HzwaWHPO",
        "outputId": "81164079-9d4f-4b11-fa2f-82a93c7b5ef4"
      },
      "outputs": [
        {
          "data": {
            "text/plain": [
              "(590, 14)"
            ]
          },
          "execution_count": 84,
          "metadata": {},
          "output_type": "execute_result"
        }
      ],
      "source": [
        "df.shape"
      ]
    },
    {
      "cell_type": "code",
      "execution_count": 85,
      "metadata": {
        "colab": {
          "base_uri": "https://localhost:8080/"
        },
        "id": "JCD9K7pNWJMe",
        "outputId": "66cfb00c-2af0-4915-c8f2-f40d15602a7e"
      },
      "outputs": [
        {
          "name": "stdout",
          "output_type": "stream",
          "text": [
            "<class 'pandas.core.frame.DataFrame'>\n",
            "RangeIndex: 590 entries, 0 to 589\n",
            "Data columns (total 14 columns):\n",
            " #   Column                   Non-Null Count  Dtype  \n",
            "---  ------                   --------------  -----  \n",
            " 0   sample_id                590 non-null    object \n",
            " 1   patient_cohort           590 non-null    object \n",
            " 2   sample_origin            590 non-null    object \n",
            " 3   age                      590 non-null    int64  \n",
            " 4   sex                      590 non-null    object \n",
            " 5   diagnosis                590 non-null    int64  \n",
            " 6   stage                    199 non-null    object \n",
            " 7   benign_sample_diagnosis  208 non-null    object \n",
            " 8   plasma_CA19_9            350 non-null    float64\n",
            " 9   creatinine               590 non-null    float64\n",
            " 10  LYVE1                    590 non-null    float64\n",
            " 11  REG1B                    590 non-null    float64\n",
            " 12  TFF1                     590 non-null    float64\n",
            " 13  REG1A                    306 non-null    float64\n",
            "dtypes: float64(6), int64(2), object(6)\n",
            "memory usage: 64.7+ KB\n"
          ]
        }
      ],
      "source": [
        "df.info()"
      ]
    },
    {
      "cell_type": "code",
      "execution_count": 86,
      "metadata": {
        "colab": {
          "base_uri": "https://localhost:8080/",
          "height": 523
        },
        "id": "gTq_cG_SWNU3",
        "outputId": "3f29b380-3665-453f-844b-05592e9efb6d"
      },
      "outputs": [
        {
          "data": {
            "application/vnd.microsoft.datawrangler.viewer.v0+json": {
              "columns": [
                {
                  "name": "index",
                  "rawType": "object",
                  "type": "string"
                },
                {
                  "name": "0",
                  "rawType": "int64",
                  "type": "integer"
                }
              ],
              "ref": "b3a67ccd-63b1-4a5c-9d07-bacd5ad1260c",
              "rows": [
                [
                  "sample_id",
                  "0"
                ],
                [
                  "patient_cohort",
                  "0"
                ],
                [
                  "sample_origin",
                  "0"
                ],
                [
                  "age",
                  "0"
                ],
                [
                  "sex",
                  "0"
                ],
                [
                  "diagnosis",
                  "0"
                ],
                [
                  "stage",
                  "391"
                ],
                [
                  "benign_sample_diagnosis",
                  "382"
                ],
                [
                  "plasma_CA19_9",
                  "240"
                ],
                [
                  "creatinine",
                  "0"
                ],
                [
                  "LYVE1",
                  "0"
                ],
                [
                  "REG1B",
                  "0"
                ],
                [
                  "TFF1",
                  "0"
                ],
                [
                  "REG1A",
                  "284"
                ]
              ],
              "shape": {
                "columns": 1,
                "rows": 14
              }
            },
            "text/plain": [
              "sample_id                    0\n",
              "patient_cohort               0\n",
              "sample_origin                0\n",
              "age                          0\n",
              "sex                          0\n",
              "diagnosis                    0\n",
              "stage                      391\n",
              "benign_sample_diagnosis    382\n",
              "plasma_CA19_9              240\n",
              "creatinine                   0\n",
              "LYVE1                        0\n",
              "REG1B                        0\n",
              "TFF1                         0\n",
              "REG1A                      284\n",
              "dtype: int64"
            ]
          },
          "execution_count": 86,
          "metadata": {},
          "output_type": "execute_result"
        }
      ],
      "source": [
        "df.isnull().sum()"
      ]
    },
    {
      "cell_type": "code",
      "execution_count": 87,
      "metadata": {
        "colab": {
          "base_uri": "https://localhost:8080/",
          "height": 209
        },
        "id": "6uxCnjL3W1mP",
        "outputId": "3130def2-68e9-4ee6-ce16-2f54a110546f"
      },
      "outputs": [
        {
          "data": {
            "application/vnd.microsoft.datawrangler.viewer.v0+json": {
              "columns": [
                {
                  "name": "diagnosis",
                  "rawType": "int64",
                  "type": "integer"
                },
                {
                  "name": "count",
                  "rawType": "float64",
                  "type": "float"
                }
              ],
              "ref": "d035be9e-cd66-4585-8cd2-40b0bb27cbdb",
              "rows": [
                [
                  "2",
                  "0.3525423728813559"
                ],
                [
                  "3",
                  "0.33728813559322035"
                ],
                [
                  "1",
                  "0.3101694915254237"
                ]
              ],
              "shape": {
                "columns": 1,
                "rows": 3
              }
            },
            "text/plain": [
              "diagnosis\n",
              "2    0.352542\n",
              "3    0.337288\n",
              "1    0.310169\n",
              "Name: count, dtype: float64"
            ]
          },
          "execution_count": 87,
          "metadata": {},
          "output_type": "execute_result"
        }
      ],
      "source": [
        "df['diagnosis'].value_counts()/len(df)"
      ]
    },
    {
      "cell_type": "code",
      "execution_count": 88,
      "metadata": {
        "colab": {
          "base_uri": "https://localhost:8080/",
          "height": 545
        },
        "id": "kSeDG3G-XL-i",
        "outputId": "35283056-fdb1-4dba-cbcf-384925763640"
      },
      "outputs": [
        {
          "data": {
            "image/png": "[encoded data removed]",
            "text/plain": [
              "<Figure size 1200x600 with 2 Axes>"
            ]
          },
          "metadata": {},
          "output_type": "display_data"
        }
      ],
      "source": [
        "plt.figure(figsize=(12, 6))\n",
        "sns.heatmap(df.select_dtypes(include=np.number).corr(), annot=True, cmap=\"coolwarm\", linewidths=0.5)\n",
        "plt.title(\"Feature Correlation Heatmap\")\n",
        "plt.show()"
      ]
    },
    {
      "cell_type": "code",
      "execution_count": 89,
      "metadata": {
        "colab": {
          "base_uri": "https://localhost:8080/",
          "height": 206
        },
        "id": "IAIuz7zme8li",
        "outputId": "d155f7ad-ffb2-43cd-f385-5f1a911fdc58"
      },
      "outputs": [
        {
          "data": {
            "application/vnd.microsoft.datawrangler.viewer.v0+json": {
              "columns": [
                {
                  "name": "index",
                  "rawType": "int64",
                  "type": "integer"
                },
                {
                  "name": "age",
                  "rawType": "int64",
                  "type": "integer"
                },
                {
                  "name": "sex",
                  "rawType": "object",
                  "type": "string"
                },
                {
                  "name": "diagnosis",
                  "rawType": "int64",
                  "type": "integer"
                },
                {
                  "name": "plasma_CA19_9",
                  "rawType": "float64",
                  "type": "float"
                },
                {
                  "name": "creatinine",
                  "rawType": "float64",
                  "type": "float"
                },
                {
                  "name": "LYVE1",
                  "rawType": "float64",
                  "type": "float"
                },
                {
                  "name": "REG1B",
                  "rawType": "float64",
                  "type": "float"
                },
                {
                  "name": "TFF1",
                  "rawType": "float64",
                  "type": "float"
                }
              ],
              "ref": "8be1abe6-0221-4e6b-9ca8-3b06c92e493f",
              "rows": [
                [
                  "0",
                  "33",
                  "F",
                  "1",
                  "11.7",
                  "1.83222",
                  "0.8932192",
                  "52.94884",
                  "654.282174"
                ],
                [
                  "2",
                  "51",
                  "M",
                  "1",
                  "7.0",
                  "0.78039",
                  "0.1455889",
                  "102.366",
                  "461.141"
                ],
                [
                  "3",
                  "61",
                  "M",
                  "1",
                  "8.0",
                  "0.70122",
                  "0.00280488",
                  "60.579",
                  "142.95"
                ],
                [
                  "4",
                  "62",
                  "M",
                  "1",
                  "9.0",
                  "0.21489",
                  "0.00085956",
                  "65.54",
                  "41.088"
                ],
                [
                  "7",
                  "58",
                  "F",
                  "1",
                  "11.0",
                  "0.89349",
                  "0.00357396",
                  "3.73",
                  "40.294"
                ]
              ],
              "shape": {
                "columns": 8,
                "rows": 5
              }
            },
            "text/html": [
              "<div>\n",
              "<style scoped>\n",
              "    .dataframe tbody tr th:only-of-type {\n",
              "        vertical-align: middle;\n",
              "    }\n",
              "\n",
              "    .dataframe tbody tr th {\n",
              "        vertical-align: top;\n",
              "    }\n",
              "\n",
              "    .dataframe thead th {\n",
              "        text-align: right;\n",
              "    }\n",
              "</style>\n",
              "<table border=\"1\" class=\"dataframe\">\n",
              "  <thead>\n",
              "    <tr style=\"text-align: right;\">\n",
              "      <th></th>\n",
              "      <th>age</th>\n",
              "      <th>sex</th>\n",
              "      <th>diagnosis</th>\n",
              "      <th>plasma_CA19_9</th>\n",
              "      <th>creatinine</th>\n",
              "      <th>LYVE1</th>\n",
              "      <th>REG1B</th>\n",
              "      <th>TFF1</th>\n",
              "    </tr>\n",
              "  </thead>\n",
              "  <tbody>\n",
              "    <tr>\n",
              "      <th>0</th>\n",
              "      <td>33</td>\n",
              "      <td>F</td>\n",
              "      <td>1</td>\n",
              "      <td>11.7</td>\n",
              "      <td>1.83222</td>\n",
              "      <td>0.893219</td>\n",
              "      <td>52.94884</td>\n",
              "      <td>654.282174</td>\n",
              "    </tr>\n",
              "    <tr>\n",
              "      <th>2</th>\n",
              "      <td>51</td>\n",
              "      <td>M</td>\n",
              "      <td>1</td>\n",
              "      <td>7.0</td>\n",
              "      <td>0.78039</td>\n",
              "      <td>0.145589</td>\n",
              "      <td>102.36600</td>\n",
              "      <td>461.141000</td>\n",
              "    </tr>\n",
              "    <tr>\n",
              "      <th>3</th>\n",
              "      <td>61</td>\n",
              "      <td>M</td>\n",
              "      <td>1</td>\n",
              "      <td>8.0</td>\n",
              "      <td>0.70122</td>\n",
              "      <td>0.002805</td>\n",
              "      <td>60.57900</td>\n",
              "      <td>142.950000</td>\n",
              "    </tr>\n",
              "    <tr>\n",
              "      <th>4</th>\n",
              "      <td>62</td>\n",
              "      <td>M</td>\n",
              "      <td>1</td>\n",
              "      <td>9.0</td>\n",
              "      <td>0.21489</td>\n",
              "      <td>0.000860</td>\n",
              "      <td>65.54000</td>\n",
              "      <td>41.088000</td>\n",
              "    </tr>\n",
              "    <tr>\n",
              "      <th>7</th>\n",
              "      <td>58</td>\n",
              "      <td>F</td>\n",
              "      <td>1</td>\n",
              "      <td>11.0</td>\n",
              "      <td>0.89349</td>\n",
              "      <td>0.003574</td>\n",
              "      <td>3.73000</td>\n",
              "      <td>40.294000</td>\n",
              "    </tr>\n",
              "  </tbody>\n",
              "</table>\n",
              "</div>"
            ],
            "text/plain": [
              "   age sex  diagnosis  plasma_CA19_9  creatinine     LYVE1      REG1B  \\\n",
              "0   33   F          1           11.7     1.83222  0.893219   52.94884   \n",
              "2   51   M          1            7.0     0.78039  0.145589  102.36600   \n",
              "3   61   M          1            8.0     0.70122  0.002805   60.57900   \n",
              "4   62   M          1            9.0     0.21489  0.000860   65.54000   \n",
              "7   58   F          1           11.0     0.89349  0.003574    3.73000   \n",
              "\n",
              "         TFF1  \n",
              "0  654.282174  \n",
              "2  461.141000  \n",
              "3  142.950000  \n",
              "4   41.088000  \n",
              "7   40.294000  "
            ]
          },
          "execution_count": 89,
          "metadata": {},
          "output_type": "execute_result"
        }
      ],
      "source": [
        "df.drop(columns=[\"sample_id\", \"patient_cohort\", \"sample_origin\", \"stage\", \"benign_sample_diagnosis\", \"REG1A\"], inplace=True)\n",
        "df.dropna(inplace=True)\n",
        "df.head()"
      ]
    },
    {
      "cell_type": "code",
      "execution_count": 90,
      "metadata": {
        "colab": {
          "base_uri": "https://localhost:8080/",
          "height": 178
        },
        "id": "sj1Xyfwk-opQ",
        "outputId": "63aab635-fad4-488d-fed8-000df8ab6ec3"
      },
      "outputs": [
        {
          "data": {
            "application/vnd.microsoft.datawrangler.viewer.v0+json": {
              "columns": [
                {
                  "name": "diagnosis",
                  "rawType": "int64",
                  "type": "integer"
                },
                {
                  "name": "count",
                  "rawType": "int64",
                  "type": "integer"
                }
              ],
              "ref": "8737c966-5f76-4242-b0ee-52eab661d3c6",
              "rows": [
                [
                  "1",
                  "258"
                ],
                [
                  "0",
                  "92"
                ]
              ],
              "shape": {
                "columns": 1,
                "rows": 2
              }
            },
            "text/plain": [
              "diagnosis\n",
              "1    258\n",
              "0     92\n",
              "Name: count, dtype: int64"
            ]
          },
          "metadata": {},
          "output_type": "display_data"
        }
      ],
      "source": [
        "df['diagnosis'] = df['diagnosis'].replace({1: 0, 2: 1, 3: 1})\n",
        "display(df['diagnosis'].value_counts())"
      ]
    },
    {
      "cell_type": "code",
      "execution_count": 91,
      "metadata": {
        "colab": {
          "base_uri": "https://localhost:8080/",
          "height": 233
        },
        "id": "Q26WOipo_HWW",
        "outputId": "fdfc2a16-5596-4588-ffe7-99da264f6a51"
      },
      "outputs": [
        {
          "name": "stderr",
          "output_type": "stream",
          "text": [
            "C:\\Users\\prajw\\AppData\\Local\\Temp\\ipykernel_22608\\2876066962.py:1: FutureWarning: Downcasting behavior in `replace` is deprecated and will be removed in a future version. To retain the old behavior, explicitly call `result.infer_objects(copy=False)`. To opt-in to the future behavior, set `pd.set_option('future.no_silent_downcasting', True)`\n",
            "  df['sex'] = df['sex'].replace({\"M\": 0, \"F\": 1})\n"
          ]
        },
        {
          "data": {
            "application/vnd.microsoft.datawrangler.viewer.v0+json": {
              "columns": [
                {
                  "name": "sex",
                  "rawType": "int64",
                  "type": "integer"
                },
                {
                  "name": "count",
                  "rawType": "int64",
                  "type": "integer"
                }
              ],
              "ref": "68a9876e-d8fc-422c-ac89-f92e8bacc391",
              "rows": [
                [
                  "1",
                  "179"
                ],
                [
                  "0",
                  "171"
                ]
              ],
              "shape": {
                "columns": 1,
                "rows": 2
              }
            },
            "text/plain": [
              "sex\n",
              "1    179\n",
              "0    171\n",
              "Name: count, dtype: int64"
            ]
          },
          "metadata": {},
          "output_type": "display_data"
        }
      ],
      "source": [
        "df['sex'] = df['sex'].replace({\"M\": 0, \"F\": 1})\n",
        "display(df['sex'].value_counts())"
      ]
    },
    {
      "cell_type": "code",
      "execution_count": 92,
      "metadata": {
        "colab": {
          "base_uri": "https://localhost:8080/"
        },
        "id": "1j-bfeteU5At",
        "outputId": "9d0481ee-3983-4c03-aaf2-25c4c977492d"
      },
      "outputs": [
        {
          "name": "stdout",
          "output_type": "stream",
          "text": [
            "Number of NaNs in plasma_CA19_9 column: 0\n"
          ]
        }
      ],
      "source": [
        "print(f\"Number of NaNs in plasma_CA19_9 column: {df['plasma_CA19_9'].isnull().sum()}\")"
      ]
    },
    {
      "cell_type": "code",
      "execution_count": 93,
      "metadata": {
        "id": "G1havyngZOx2"
      },
      "outputs": [],
      "source": [
        "X = df.drop(columns=[\"diagnosis\"])\n",
        "y = df[\"diagnosis\"]"
      ]
    },
    {
      "cell_type": "code",
      "execution_count": 94,
      "metadata": {
        "colab": {
          "base_uri": "https://localhost:8080/",
          "height": 423
        },
        "id": "B6g3yvYkazHd",
        "outputId": "a04bf7ab-dddf-46f4-99bb-c2874cc46c1f"
      },
      "outputs": [
        {
          "data": {
            "application/vnd.microsoft.datawrangler.viewer.v0+json": {
              "columns": [
                {
                  "name": "index",
                  "rawType": "int64",
                  "type": "integer"
                },
                {
                  "name": "age",
                  "rawType": "int64",
                  "type": "integer"
                },
                {
                  "name": "sex",
                  "rawType": "int64",
                  "type": "integer"
                },
                {
                  "name": "plasma_CA19_9",
                  "rawType": "float64",
                  "type": "float"
                },
                {
                  "name": "creatinine",
                  "rawType": "float64",
                  "type": "float"
                },
                {
                  "name": "LYVE1",
                  "rawType": "float64",
                  "type": "float"
                },
                {
                  "name": "REG1B",
                  "rawType": "float64",
                  "type": "float"
                },
                {
                  "name": "TFF1",
                  "rawType": "float64",
                  "type": "float"
                }
              ],
              "ref": "e219df5d-8f2a-469e-9e1a-b86f8aead658",
              "rows": [
                [
                  "0",
                  "33",
                  "1",
                  "11.7",
                  "1.83222",
                  "0.8932192",
                  "52.94884",
                  "654.282174"
                ],
                [
                  "2",
                  "51",
                  "0",
                  "7.0",
                  "0.78039",
                  "0.1455889",
                  "102.366",
                  "461.141"
                ],
                [
                  "3",
                  "61",
                  "0",
                  "8.0",
                  "0.70122",
                  "0.00280488",
                  "60.579",
                  "142.95"
                ],
                [
                  "4",
                  "62",
                  "0",
                  "9.0",
                  "0.21489",
                  "0.00085956",
                  "65.54",
                  "41.088"
                ],
                [
                  "7",
                  "58",
                  "1",
                  "11.0",
                  "0.89349",
                  "0.00357396",
                  "3.73",
                  "40.294"
                ],
                [
                  "9",
                  "56",
                  "1",
                  "24.0",
                  "0.61074",
                  "0.2787785",
                  "83.928",
                  "19.185"
                ],
                [
                  "11",
                  "71",
                  "0",
                  "23.0",
                  "1.05183",
                  "0.8603368",
                  "243.082",
                  "608.284"
                ],
                [
                  "13",
                  "53",
                  "0",
                  "7.0",
                  "1.91139",
                  "1.516773",
                  "150.89",
                  "590.686"
                ],
                [
                  "14",
                  "56",
                  "1",
                  "12.0",
                  "0.91611",
                  "0.5996449",
                  "93.811",
                  "93.576"
                ],
                [
                  "15",
                  "60",
                  "1",
                  "28.0",
                  "0.50895",
                  "0.0020358",
                  "24.366",
                  "19.698"
                ],
                [
                  "16",
                  "69",
                  "1",
                  "9.0",
                  "0.41847",
                  "0.00167388",
                  "17.102",
                  "0.03264066"
                ],
                [
                  "17",
                  "60",
                  "1",
                  "47.0",
                  "0.80301",
                  "0.00321204",
                  "3.588",
                  "30.071"
                ],
                [
                  "18",
                  "55",
                  "0",
                  "17.0",
                  "1.28934",
                  "2.285351",
                  "67.468",
                  "269.805"
                ],
                [
                  "19",
                  "28",
                  "1",
                  "8.7",
                  "0.50895",
                  "0.5830097",
                  "13.61906",
                  "267.193539"
                ],
                [
                  "21",
                  "50",
                  "1",
                  "8.7",
                  "0.95004",
                  "0.00380016",
                  "56.399133",
                  "192.258882"
                ],
                [
                  "27",
                  "45",
                  "0",
                  "9.6",
                  "1.3572",
                  "2.392864",
                  "28.509285",
                  "353.656656"
                ],
                [
                  "28",
                  "35",
                  "0",
                  "4.0",
                  "0.24882",
                  "0.00099528",
                  "9.245166",
                  "6.03070104"
                ],
                [
                  "29",
                  "30",
                  "0",
                  "10.8",
                  "1.18755",
                  "1.600313",
                  "22.471281",
                  "299.11836"
                ],
                [
                  "44",
                  "87",
                  "0",
                  "0.05647592",
                  "0.06786",
                  "0.00027144",
                  "0.7303665",
                  "0.00529308"
                ],
                [
                  "46",
                  "66",
                  "1",
                  "4.060258",
                  "0.75777",
                  "0.008919911",
                  "5.41987",
                  "8.919911"
                ],
                [
                  "47",
                  "59",
                  "0",
                  "0.908578",
                  "1.91139",
                  "0.06216421",
                  "50.1122",
                  "62.16421"
                ],
                [
                  "48",
                  "59",
                  "0",
                  "3.389304",
                  "1.26672",
                  "0.007113679",
                  "5.22589",
                  "7.113679"
                ],
                [
                  "49",
                  "36",
                  "1",
                  "5.128234",
                  "0.96135",
                  "0.01942577",
                  "47.254685",
                  "19.42577"
                ],
                [
                  "50",
                  "70",
                  "1",
                  "1.1359264",
                  "0.39585",
                  "0.01278068",
                  "10.887465",
                  "12.78068"
                ],
                [
                  "51",
                  "63",
                  "1",
                  "1.9389494",
                  "0.42978",
                  "0.00171912",
                  "5.799405",
                  "0.03352284"
                ],
                [
                  "52",
                  "63",
                  "1",
                  "2.059078",
                  "0.32799",
                  "0.00131196",
                  "219.8605",
                  "0.02558322"
                ],
                [
                  "53",
                  "59",
                  "0",
                  "0.5161092",
                  "0.88218",
                  "0.008404655",
                  "8.23218",
                  "8.404655"
                ],
                [
                  "54",
                  "67",
                  "1",
                  "1.8477128",
                  "0.38454",
                  "0.001682586",
                  "15.06118",
                  "1.682586"
                ],
                [
                  "55",
                  "49",
                  "0",
                  "2.11638",
                  "0.91611",
                  "0.01329349",
                  "78.4703",
                  "13.29349"
                ],
                [
                  "57",
                  "47",
                  "0",
                  "2.558004",
                  "1.23279",
                  "0.04893169",
                  "146.7188",
                  "48.93169"
                ],
                [
                  "58",
                  "60",
                  "1",
                  "6.275096",
                  "0.13572",
                  "0.000647148",
                  "3.0346865",
                  "0.6471484"
                ],
                [
                  "59",
                  "60",
                  "1",
                  "2.370806",
                  "0.09048",
                  "0.007113679",
                  "4.4540935",
                  "7.113679"
                ],
                [
                  "60",
                  "73",
                  "1",
                  "5.517202",
                  "0.20358",
                  "0.00081432",
                  "2.76052",
                  "0.01587924"
                ],
                [
                  "61",
                  "83",
                  "1",
                  "1.1303358",
                  "0.31668",
                  "0.00126672",
                  "23.192925",
                  "0.02470104"
                ],
                [
                  "62",
                  "60",
                  "1",
                  "6.223082",
                  "0.1131",
                  "0.00478765",
                  "3.6021425",
                  "4.78765"
                ],
                [
                  "63",
                  "44",
                  "1",
                  "0.916032",
                  "0.12441",
                  "0.01764217",
                  "13.10085",
                  "17.64217"
                ],
                [
                  "64",
                  "55",
                  "1",
                  "0.749904",
                  "0.4524",
                  "0.000647148",
                  "6.85593",
                  "0.6471484"
                ],
                [
                  "65",
                  "51",
                  "1",
                  "1.0800212",
                  "0.2262",
                  "0.0009048",
                  "5.30383",
                  "0.0176436"
                ],
                [
                  "66",
                  "56",
                  "1",
                  "1.9369218",
                  "0.16965",
                  "0.0006786",
                  "0.9549",
                  "0.0132327"
                ],
                [
                  "68",
                  "65",
                  "1",
                  "2.52441",
                  "0.70122",
                  "0.02898082",
                  "60.37345",
                  "28.98082"
                ],
                [
                  "69",
                  "45",
                  "0",
                  "2.532164",
                  "0.37323",
                  "0.00149292",
                  "12.953345",
                  "0.02911194"
                ],
                [
                  "70",
                  "64",
                  "1",
                  "0.4571338",
                  "0.12441",
                  "0.00049764",
                  "6.53329",
                  "0.00970398"
                ],
                [
                  "71",
                  "26",
                  "1",
                  "3.527344",
                  "0.19227",
                  "0.000906008",
                  "13.02703",
                  "0.9060078"
                ],
                [
                  "72",
                  "34",
                  "1",
                  "0.8135388",
                  "0.53157",
                  "0.008662283",
                  "7.88036",
                  "8.662283"
                ],
                [
                  "73",
                  "45",
                  "1",
                  "0.05156496",
                  "0.06786",
                  "0.01046568",
                  "3.222564",
                  "10.46568"
                ],
                [
                  "74",
                  "51",
                  "1",
                  "0.8303104",
                  "0.14703",
                  "0.000388289",
                  "87.5727",
                  "0.3882891"
                ],
                [
                  "75",
                  "67",
                  "1",
                  "0.7140976",
                  "1.09707",
                  "0.002976883",
                  "14.600835",
                  "2.976883"
                ],
                [
                  "76",
                  "64",
                  "1",
                  "6.159064",
                  "0.4524",
                  "0.000906008",
                  "2.896185",
                  "0.9060078"
                ],
                [
                  "77",
                  "50",
                  "1",
                  "0.0",
                  "0.53157",
                  "0.005046098",
                  "5.381445",
                  "5.046098"
                ],
                [
                  "79",
                  "63",
                  "1",
                  "0.5140028",
                  "0.30537",
                  "0.005304546",
                  "7.56369",
                  "5.304546"
                ]
              ],
              "shape": {
                "columns": 7,
                "rows": 350
              }
            },
            "text/html": [
              "<div>\n",
              "<style scoped>\n",
              "    .dataframe tbody tr th:only-of-type {\n",
              "        vertical-align: middle;\n",
              "    }\n",
              "\n",
              "    .dataframe tbody tr th {\n",
              "        vertical-align: top;\n",
              "    }\n",
              "\n",
              "    .dataframe thead th {\n",
              "        text-align: right;\n",
              "    }\n",
              "</style>\n",
              "<table border=\"1\" class=\"dataframe\">\n",
              "  <thead>\n",
              "    <tr style=\"text-align: right;\">\n",
              "      <th></th>\n",
              "      <th>age</th>\n",
              "      <th>sex</th>\n",
              "      <th>plasma_CA19_9</th>\n",
              "      <th>creatinine</th>\n",
              "      <th>LYVE1</th>\n",
              "      <th>REG1B</th>\n",
              "      <th>TFF1</th>\n",
              "    </tr>\n",
              "  </thead>\n",
              "  <tbody>\n",
              "    <tr>\n",
              "      <th>0</th>\n",
              "      <td>33</td>\n",
              "      <td>1</td>\n",
              "      <td>11.7</td>\n",
              "      <td>1.83222</td>\n",
              "      <td>0.893219</td>\n",
              "      <td>52.948840</td>\n",
              "      <td>654.282174</td>\n",
              "    </tr>\n",
              "    <tr>\n",
              "      <th>2</th>\n",
              "      <td>51</td>\n",
              "      <td>0</td>\n",
              "      <td>7.0</td>\n",
              "      <td>0.78039</td>\n",
              "      <td>0.145589</td>\n",
              "      <td>102.366000</td>\n",
              "      <td>461.141000</td>\n",
              "    </tr>\n",
              "    <tr>\n",
              "      <th>3</th>\n",
              "      <td>61</td>\n",
              "      <td>0</td>\n",
              "      <td>8.0</td>\n",
              "      <td>0.70122</td>\n",
              "      <td>0.002805</td>\n",
              "      <td>60.579000</td>\n",
              "      <td>142.950000</td>\n",
              "    </tr>\n",
              "    <tr>\n",
              "      <th>4</th>\n",
              "      <td>62</td>\n",
              "      <td>0</td>\n",
              "      <td>9.0</td>\n",
              "      <td>0.21489</td>\n",
              "      <td>0.000860</td>\n",
              "      <td>65.540000</td>\n",
              "      <td>41.088000</td>\n",
              "    </tr>\n",
              "    <tr>\n",
              "      <th>7</th>\n",
              "      <td>58</td>\n",
              "      <td>1</td>\n",
              "      <td>11.0</td>\n",
              "      <td>0.89349</td>\n",
              "      <td>0.003574</td>\n",
              "      <td>3.730000</td>\n",
              "      <td>40.294000</td>\n",
              "    </tr>\n",
              "    <tr>\n",
              "      <th>...</th>\n",
              "      <td>...</td>\n",
              "      <td>...</td>\n",
              "      <td>...</td>\n",
              "      <td>...</td>\n",
              "      <td>...</td>\n",
              "      <td>...</td>\n",
              "      <td>...</td>\n",
              "    </tr>\n",
              "    <tr>\n",
              "      <th>569</th>\n",
              "      <td>44</td>\n",
              "      <td>1</td>\n",
              "      <td>271.7</td>\n",
              "      <td>2.42034</td>\n",
              "      <td>9.005338</td>\n",
              "      <td>144.985040</td>\n",
              "      <td>2856.123240</td>\n",
              "    </tr>\n",
              "    <tr>\n",
              "      <th>570</th>\n",
              "      <td>58</td>\n",
              "      <td>0</td>\n",
              "      <td>710.8</td>\n",
              "      <td>0.19227</td>\n",
              "      <td>3.055294</td>\n",
              "      <td>32.890960</td>\n",
              "      <td>196.709982</td>\n",
              "    </tr>\n",
              "    <tr>\n",
              "      <th>579</th>\n",
              "      <td>78</td>\n",
              "      <td>1</td>\n",
              "      <td>941.0</td>\n",
              "      <td>0.46371</td>\n",
              "      <td>1.044345</td>\n",
              "      <td>14.364360</td>\n",
              "      <td>327.397097</td>\n",
              "    </tr>\n",
              "    <tr>\n",
              "      <th>581</th>\n",
              "      <td>61</td>\n",
              "      <td>1</td>\n",
              "      <td>13740.0</td>\n",
              "      <td>0.32799</td>\n",
              "      <td>5.232527</td>\n",
              "      <td>123.104730</td>\n",
              "      <td>755.820867</td>\n",
              "    </tr>\n",
              "    <tr>\n",
              "      <th>589</th>\n",
              "      <td>74</td>\n",
              "      <td>0</td>\n",
              "      <td>1488.0</td>\n",
              "      <td>1.50423</td>\n",
              "      <td>8.200958</td>\n",
              "      <td>411.938275</td>\n",
              "      <td>2021.321078</td>\n",
              "    </tr>\n",
              "  </tbody>\n",
              "</table>\n",
              "<p>350 rows × 7 columns</p>\n",
              "</div>"
            ],
            "text/plain": [
              "     age  sex  plasma_CA19_9  creatinine     LYVE1       REG1B         TFF1\n",
              "0     33    1           11.7     1.83222  0.893219   52.948840   654.282174\n",
              "2     51    0            7.0     0.78039  0.145589  102.366000   461.141000\n",
              "3     61    0            8.0     0.70122  0.002805   60.579000   142.950000\n",
              "4     62    0            9.0     0.21489  0.000860   65.540000    41.088000\n",
              "7     58    1           11.0     0.89349  0.003574    3.730000    40.294000\n",
              "..   ...  ...            ...         ...       ...         ...          ...\n",
              "569   44    1          271.7     2.42034  9.005338  144.985040  2856.123240\n",
              "570   58    0          710.8     0.19227  3.055294   32.890960   196.709982\n",
              "579   78    1          941.0     0.46371  1.044345   14.364360   327.397097\n",
              "581   61    1        13740.0     0.32799  5.232527  123.104730   755.820867\n",
              "589   74    0         1488.0     1.50423  8.200958  411.938275  2021.321078\n",
              "\n",
              "[350 rows x 7 columns]"
            ]
          },
          "execution_count": 94,
          "metadata": {},
          "output_type": "execute_result"
        }
      ],
      "source": [
        "X"
      ]
    },
    {
      "cell_type": "code",
      "execution_count": 95,
      "metadata": {
        "colab": {
          "base_uri": "https://localhost:8080/",
          "height": 458
        },
        "id": "mNkBQ050a3xH",
        "outputId": "dd4d6560-6a49-45af-d316-f601b1534f4b"
      },
      "outputs": [
        {
          "data": {
            "application/vnd.microsoft.datawrangler.viewer.v0+json": {
              "columns": [
                {
                  "name": "index",
                  "rawType": "int64",
                  "type": "integer"
                },
                {
                  "name": "diagnosis",
                  "rawType": "int64",
                  "type": "integer"
                }
              ],
              "ref": "5bf6baca-3b2b-4e7b-97cd-e023559c7b12",
              "rows": [
                [
                  "0",
                  "0"
                ],
                [
                  "2",
                  "0"
                ],
                [
                  "3",
                  "0"
                ],
                [
                  "4",
                  "0"
                ],
                [
                  "7",
                  "0"
                ],
                [
                  "9",
                  "0"
                ],
                [
                  "11",
                  "0"
                ],
                [
                  "13",
                  "0"
                ],
                [
                  "14",
                  "0"
                ],
                [
                  "15",
                  "0"
                ],
                [
                  "16",
                  "0"
                ],
                [
                  "17",
                  "0"
                ],
                [
                  "18",
                  "0"
                ],
                [
                  "19",
                  "0"
                ],
                [
                  "21",
                  "0"
                ],
                [
                  "27",
                  "0"
                ],
                [
                  "28",
                  "0"
                ],
                [
                  "29",
                  "0"
                ],
                [
                  "44",
                  "0"
                ],
                [
                  "46",
                  "0"
                ],
                [
                  "47",
                  "0"
                ],
                [
                  "48",
                  "0"
                ],
                [
                  "49",
                  "0"
                ],
                [
                  "50",
                  "0"
                ],
                [
                  "51",
                  "0"
                ],
                [
                  "52",
                  "0"
                ],
                [
                  "53",
                  "0"
                ],
                [
                  "54",
                  "0"
                ],
                [
                  "55",
                  "0"
                ],
                [
                  "57",
                  "0"
                ],
                [
                  "58",
                  "0"
                ],
                [
                  "59",
                  "0"
                ],
                [
                  "60",
                  "0"
                ],
                [
                  "61",
                  "0"
                ],
                [
                  "62",
                  "0"
                ],
                [
                  "63",
                  "0"
                ],
                [
                  "64",
                  "0"
                ],
                [
                  "65",
                  "0"
                ],
                [
                  "66",
                  "0"
                ],
                [
                  "68",
                  "0"
                ],
                [
                  "69",
                  "0"
                ],
                [
                  "70",
                  "0"
                ],
                [
                  "71",
                  "0"
                ],
                [
                  "72",
                  "0"
                ],
                [
                  "73",
                  "0"
                ],
                [
                  "74",
                  "0"
                ],
                [
                  "75",
                  "0"
                ],
                [
                  "76",
                  "0"
                ],
                [
                  "77",
                  "0"
                ],
                [
                  "79",
                  "0"
                ]
              ],
              "shape": {
                "columns": 1,
                "rows": 350
              }
            },
            "text/plain": [
              "0      0\n",
              "2      0\n",
              "3      0\n",
              "4      0\n",
              "7      0\n",
              "      ..\n",
              "569    1\n",
              "570    1\n",
              "579    1\n",
              "581    1\n",
              "589    1\n",
              "Name: diagnosis, Length: 350, dtype: int64"
            ]
          },
          "execution_count": 95,
          "metadata": {},
          "output_type": "execute_result"
        }
      ],
      "source": [
        "y"
      ]
    },
    {
      "cell_type": "code",
      "execution_count": 96,
      "metadata": {
        "id": "T9t_xoqFa_Tl"
      },
      "outputs": [],
      "source": [
        "X_train, X_test, y_train, y_test = train_test_split(X, y, test_size=0.2, random_state=42,stratify=y)"
      ]
    },
    {
      "cell_type": "code",
      "execution_count": 97,
      "metadata": {
        "colab": {
          "base_uri": "https://localhost:8080/"
        },
        "id": "1mALyjxTbB7J",
        "outputId": "fcc167c2-3de3-4380-a8d2-bc0e9573aaf5"
      },
      "outputs": [
        {
          "name": "stdout",
          "output_type": "stream",
          "text": [
            "X_train: (280, 7)\n",
            "Y_train: (280,)\n",
            "X_test: (70, 7)\n",
            "Y_test: (70,)\n"
          ]
        }
      ],
      "source": [
        "shapes = {\"X_train\": X_train.shape,\n",
        "          \"Y_train\": y_train.shape,\n",
        "          \"X_test\": X_test.shape,\n",
        "          \"Y_test\": y_test.shape\n",
        "          }\n",
        "for i in shapes:\n",
        "    print(f\"{i}: {shapes[i]}\")"
      ]
    },
    {
      "cell_type": "code",
      "execution_count": 98,
      "metadata": {
        "colab": {
          "base_uri": "https://localhost:8080/",
          "height": 447
        },
        "id": "s4ITAI2wb9RM",
        "outputId": "e60c5a17-d3b7-4f5f-cc28-afc8f7b498ca"
      },
      "outputs": [
        {
          "name": "stdout",
          "output_type": "stream",
          "text": [
            "Scaled Training Data (first 5 rows):\n"
          ]
        },
        {
          "data": {
            "application/vnd.microsoft.datawrangler.viewer.v0+json": {
              "columns": [
                {
                  "name": "index",
                  "rawType": "int64",
                  "type": "integer"
                },
                {
                  "name": "age",
                  "rawType": "float64",
                  "type": "float"
                },
                {
                  "name": "sex",
                  "rawType": "int64",
                  "type": "integer"
                },
                {
                  "name": "plasma_CA19_9",
                  "rawType": "float64",
                  "type": "float"
                },
                {
                  "name": "creatinine",
                  "rawType": "float64",
                  "type": "float"
                },
                {
                  "name": "LYVE1",
                  "rawType": "float64",
                  "type": "float"
                },
                {
                  "name": "REG1B",
                  "rawType": "float64",
                  "type": "float"
                },
                {
                  "name": "TFF1",
                  "rawType": "float64",
                  "type": "float"
                }
              ],
              "ref": "a06faec4-72ca-4b43-bd3e-a2105682ed4c",
              "rows": [
                [
                  "418",
                  "0.35187850834086093",
                  "1",
                  "1972.0",
                  "0.009120326191969553",
                  "-0.4665178421107458",
                  "-0.5196682729520783",
                  "-0.20269888224836347"
                ],
                [
                  "589",
                  "1.1192148193645446",
                  "0",
                  "1488.0",
                  "1.0102352012174707",
                  "1.4416359995318886",
                  "1.5226491367663135",
                  "1.1061723365324965"
                ],
                [
                  "526",
                  "1.195948450466913",
                  "1",
                  "2454.0",
                  "-0.10965601491275087",
                  "3.025503158333662",
                  "0.08858744698977117",
                  "1.1508625113907704"
                ],
                [
                  "426",
                  "0.19841124613612418",
                  "1",
                  "1098.0",
                  "0.518161788069343",
                  "1.547163146073195",
                  "0.004840765744695873",
                  "1.5351561446680644"
                ],
                [
                  "503",
                  "0.7355466638527027",
                  "1",
                  "556.0",
                  "0.12789666729668997",
                  "1.24317774993521",
                  "-0.19304394126064747",
                  "0.6137042069179676"
                ]
              ],
              "shape": {
                "columns": 7,
                "rows": 5
              }
            },
            "text/html": [
              "<div>\n",
              "<style scoped>\n",
              "    .dataframe tbody tr th:only-of-type {\n",
              "        vertical-align: middle;\n",
              "    }\n",
              "\n",
              "    .dataframe tbody tr th {\n",
              "        vertical-align: top;\n",
              "    }\n",
              "\n",
              "    .dataframe thead th {\n",
              "        text-align: right;\n",
              "    }\n",
              "</style>\n",
              "<table border=\"1\" class=\"dataframe\">\n",
              "  <thead>\n",
              "    <tr style=\"text-align: right;\">\n",
              "      <th></th>\n",
              "      <th>age</th>\n",
              "      <th>sex</th>\n",
              "      <th>plasma_CA19_9</th>\n",
              "      <th>creatinine</th>\n",
              "      <th>LYVE1</th>\n",
              "      <th>REG1B</th>\n",
              "      <th>TFF1</th>\n",
              "    </tr>\n",
              "  </thead>\n",
              "  <tbody>\n",
              "    <tr>\n",
              "      <th>418</th>\n",
              "      <td>0.351879</td>\n",
              "      <td>1</td>\n",
              "      <td>1972.0</td>\n",
              "      <td>0.009120</td>\n",
              "      <td>-0.466518</td>\n",
              "      <td>-0.519668</td>\n",
              "      <td>-0.202699</td>\n",
              "    </tr>\n",
              "    <tr>\n",
              "      <th>589</th>\n",
              "      <td>1.119215</td>\n",
              "      <td>0</td>\n",
              "      <td>1488.0</td>\n",
              "      <td>1.010235</td>\n",
              "      <td>1.441636</td>\n",
              "      <td>1.522649</td>\n",
              "      <td>1.106172</td>\n",
              "    </tr>\n",
              "    <tr>\n",
              "      <th>526</th>\n",
              "      <td>1.195948</td>\n",
              "      <td>1</td>\n",
              "      <td>2454.0</td>\n",
              "      <td>-0.109656</td>\n",
              "      <td>3.025503</td>\n",
              "      <td>0.088587</td>\n",
              "      <td>1.150863</td>\n",
              "    </tr>\n",
              "    <tr>\n",
              "      <th>426</th>\n",
              "      <td>0.198411</td>\n",
              "      <td>1</td>\n",
              "      <td>1098.0</td>\n",
              "      <td>0.518162</td>\n",
              "      <td>1.547163</td>\n",
              "      <td>0.004841</td>\n",
              "      <td>1.535156</td>\n",
              "    </tr>\n",
              "    <tr>\n",
              "      <th>503</th>\n",
              "      <td>0.735547</td>\n",
              "      <td>1</td>\n",
              "      <td>556.0</td>\n",
              "      <td>0.127897</td>\n",
              "      <td>1.243178</td>\n",
              "      <td>-0.193044</td>\n",
              "      <td>0.613704</td>\n",
              "    </tr>\n",
              "  </tbody>\n",
              "</table>\n",
              "</div>"
            ],
            "text/plain": [
              "          age  sex  plasma_CA19_9  creatinine     LYVE1     REG1B      TFF1\n",
              "418  0.351879    1         1972.0    0.009120 -0.466518 -0.519668 -0.202699\n",
              "589  1.119215    0         1488.0    1.010235  1.441636  1.522649  1.106172\n",
              "526  1.195948    1         2454.0   -0.109656  3.025503  0.088587  1.150863\n",
              "426  0.198411    1         1098.0    0.518162  1.547163  0.004841  1.535156\n",
              "503  0.735547    1          556.0    0.127897  1.243178 -0.193044  0.613704"
            ]
          },
          "metadata": {},
          "output_type": "display_data"
        },
        {
          "name": "stdout",
          "output_type": "stream",
          "text": [
            "\n",
            "Scaled Test Data (first 5 rows):\n"
          ]
        },
        {
          "data": {
            "application/vnd.microsoft.datawrangler.viewer.v0+json": {
              "columns": [
                {
                  "name": "index",
                  "rawType": "int64",
                  "type": "integer"
                },
                {
                  "name": "age",
                  "rawType": "float64",
                  "type": "float"
                },
                {
                  "name": "sex",
                  "rawType": "int64",
                  "type": "integer"
                },
                {
                  "name": "plasma_CA19_9",
                  "rawType": "float64",
                  "type": "float"
                },
                {
                  "name": "creatinine",
                  "rawType": "float64",
                  "type": "float"
                },
                {
                  "name": "LYVE1",
                  "rawType": "float64",
                  "type": "float"
                },
                {
                  "name": "REG1B",
                  "rawType": "float64",
                  "type": "float"
                },
                {
                  "name": "TFF1",
                  "rawType": "float64",
                  "type": "float"
                }
              ],
              "ref": "7e2d57ae-378f-41cb-982d-3170cea3ab27",
              "rows": [
                [
                  "435",
                  "0.1216776150337558",
                  "1",
                  "476.0",
                  "0.4502895931523599",
                  "0.9915837948549221",
                  "-0.13094583490246917",
                  "-0.27359552731430575"
                ],
                [
                  "518",
                  "-0.261990540478086",
                  "0",
                  "1.0",
                  "3.5724105593335844",
                  "0.3969069694982418",
                  "-0.1043823009741549",
                  "0.2598159636153473"
                ],
                [
                  "425",
                  "1.0424811882621763",
                  "0",
                  "538.0",
                  "-0.0926879661835052",
                  "-0.14307625046142042",
                  "-0.5116808364114604",
                  "-0.47476470553378763"
                ],
                [
                  "82",
                  "0.8890139260574395",
                  "1",
                  "0.7309476",
                  "-0.737473817894845",
                  "-0.8605857854876879",
                  "-0.5641228053903352",
                  "-0.5550910595811306"
                ],
                [
                  "505",
                  "-0.1085232782733493",
                  "0",
                  "1075.0",
                  "-0.4320489407684208",
                  "-0.26066806377401025",
                  "0.6231651529116575",
                  "-0.2802669186633332"
                ]
              ],
              "shape": {
                "columns": 7,
                "rows": 5
              }
            },
            "text/html": [
              "<div>\n",
              "<style scoped>\n",
              "    .dataframe tbody tr th:only-of-type {\n",
              "        vertical-align: middle;\n",
              "    }\n",
              "\n",
              "    .dataframe tbody tr th {\n",
              "        vertical-align: top;\n",
              "    }\n",
              "\n",
              "    .dataframe thead th {\n",
              "        text-align: right;\n",
              "    }\n",
              "</style>\n",
              "<table border=\"1\" class=\"dataframe\">\n",
              "  <thead>\n",
              "    <tr style=\"text-align: right;\">\n",
              "      <th></th>\n",
              "      <th>age</th>\n",
              "      <th>sex</th>\n",
              "      <th>plasma_CA19_9</th>\n",
              "      <th>creatinine</th>\n",
              "      <th>LYVE1</th>\n",
              "      <th>REG1B</th>\n",
              "      <th>TFF1</th>\n",
              "    </tr>\n",
              "  </thead>\n",
              "  <tbody>\n",
              "    <tr>\n",
              "      <th>435</th>\n",
              "      <td>0.121678</td>\n",
              "      <td>1</td>\n",
              "      <td>476.000000</td>\n",
              "      <td>0.450290</td>\n",
              "      <td>0.991584</td>\n",
              "      <td>-0.130946</td>\n",
              "      <td>-0.273596</td>\n",
              "    </tr>\n",
              "    <tr>\n",
              "      <th>518</th>\n",
              "      <td>-0.261991</td>\n",
              "      <td>0</td>\n",
              "      <td>1.000000</td>\n",
              "      <td>3.572411</td>\n",
              "      <td>0.396907</td>\n",
              "      <td>-0.104382</td>\n",
              "      <td>0.259816</td>\n",
              "    </tr>\n",
              "    <tr>\n",
              "      <th>425</th>\n",
              "      <td>1.042481</td>\n",
              "      <td>0</td>\n",
              "      <td>538.000000</td>\n",
              "      <td>-0.092688</td>\n",
              "      <td>-0.143076</td>\n",
              "      <td>-0.511681</td>\n",
              "      <td>-0.474765</td>\n",
              "    </tr>\n",
              "    <tr>\n",
              "      <th>82</th>\n",
              "      <td>0.889014</td>\n",
              "      <td>1</td>\n",
              "      <td>0.730948</td>\n",
              "      <td>-0.737474</td>\n",
              "      <td>-0.860586</td>\n",
              "      <td>-0.564123</td>\n",
              "      <td>-0.555091</td>\n",
              "    </tr>\n",
              "    <tr>\n",
              "      <th>505</th>\n",
              "      <td>-0.108523</td>\n",
              "      <td>0</td>\n",
              "      <td>1075.000000</td>\n",
              "      <td>-0.432049</td>\n",
              "      <td>-0.260668</td>\n",
              "      <td>0.623165</td>\n",
              "      <td>-0.280267</td>\n",
              "    </tr>\n",
              "  </tbody>\n",
              "</table>\n",
              "</div>"
            ],
            "text/plain": [
              "          age  sex  plasma_CA19_9  creatinine     LYVE1     REG1B      TFF1\n",
              "435  0.121678    1     476.000000    0.450290  0.991584 -0.130946 -0.273596\n",
              "518 -0.261991    0       1.000000    3.572411  0.396907 -0.104382  0.259816\n",
              "425  1.042481    0     538.000000   -0.092688 -0.143076 -0.511681 -0.474765\n",
              "82   0.889014    1       0.730948   -0.737474 -0.860586 -0.564123 -0.555091\n",
              "505 -0.108523    0    1075.000000   -0.432049 -0.260668  0.623165 -0.280267"
            ]
          },
          "metadata": {},
          "output_type": "display_data"
        }
      ],
      "source": [
        "numeric_cols_to_scale = [\"creatinine\", \"age\", \"LYVE1\", \"REG1B\", \"TFF1\"]\n",
        "scaler = StandardScaler()\n",
        "X_train[numeric_cols_to_scale] = scaler.fit_transform(X_train[numeric_cols_to_scale])\n",
        "X_test[numeric_cols_to_scale] = scaler.transform(X_test[numeric_cols_to_scale])\n",
        "\n",
        "print(\"Scaled Training Data (first 5 rows):\")\n",
        "display(X_train.head())\n",
        "\n",
        "print(\"\\nScaled Test Data (first 5 rows):\")\n",
        "display(X_test.head())"
      ]
    },
    {
      "cell_type": "markdown",
      "metadata": {},
      "source": [
        "## Defining Evaluation Function"
      ]
    },
    {
      "cell_type": "markdown",
      "metadata": {},
      "source": [
        "Accuracy: Number of all correct predictions/ Total number of samples in the test dataset; Acc = TP+TN/(TP+TN+FP+FN)\n",
        "\n",
        "Sensitivity/Recall: Number of all correct positive predictions/ Total number of positive samples in the test dataset; Sn= TP/(TP+FN)\n",
        "\n",
        "Specificity: Number of all correct negative predictions/ Total number of negative samples in the test dataset; Sp= TN/(TN+FP)"
      ]
    },
    {
      "cell_type": "code",
      "execution_count": 99,
      "metadata": {
        "id": "QL3_L8gQc6cH"
      },
      "outputs": [],
      "source": [
        "def evaluate_classification_model(y_target, y_predicted):\n",
        "\n",
        "  # Generate the confusion matrix\n",
        "  cm = confusion_matrix(y_target, y_predicted)\n",
        "\n",
        "  # Print the confusion matrix\n",
        "  print(\"Confusion Matrix:\")\n",
        "  print(cm)\n",
        "\n",
        "  # Visualize the confusion matrix\n",
        "  plt.figure(figsize=(6, 4))\n",
        "  sns.heatmap(cm, annot=True, fmt='d', cmap='Blues')\n",
        "  plt.xlabel('Predicted Label')\n",
        "  plt.ylabel('True Label')\n",
        "  plt.title('Confusion Matrix')\n",
        "  plt.show()\n",
        "\n",
        "  # For multi-class classification, calculate overall accuracy and print classification report\n",
        "  accuracy = accuracy_score(y_target, y_predicted)\n",
        "  print(f\"\\nOverall Accuracy: {accuracy*100:.2f}%\")\n",
        "\n",
        "  print(\"\\nClassification Report:\")\n",
        "  print(classification_report(y_target, y_predicted))\n",
        "\n",
        "  tn, fp, fn, tp = cm.ravel()\n",
        "\n",
        "  # Accuracy\n",
        "  accuracy = (tp + tn) / (tp + tn + fp + fn)\n",
        "\n",
        "  # Sensitivity (True Positive Rate)\n",
        "  sensitivity = tp / (tp + fn) if (tp + fn) > 0 else 0\n",
        "\n",
        "  # Specificity (True Negative Rate)\n",
        "  specificity = tn / (tn + fp) if (tn + fp) > 0 else 0\n",
        "\n",
        "  print(f\"\\nAccuracy: {accuracy*100:.2f}%\")\n",
        "  print(f\"Sensitivity: {sensitivity*100:.2f}%\")\n",
        "  print(f\"Specificity: {specificity*100:.2f}%\")"
      ]
    },
    {
      "cell_type": "markdown",
      "metadata": {},
      "source": [
        "## Logistic Regression"
      ]
    },
    {
      "cell_type": "code",
      "execution_count": 100,
      "metadata": {
        "colab": {
          "base_uri": "https://localhost:8080/",
          "height": 757
        },
        "id": "DwoaoahidSGV",
        "outputId": "4723768b-fb69-419a-b904-afb0ccf895d5"
      },
      "outputs": [
        {
          "name": "stdout",
          "output_type": "stream",
          "text": [
            "Confusion Matrix:\n",
            "[[13  5]\n",
            " [ 2 50]]\n"
          ]
        },
        {
          "data": {
            "image/png": "[encoded data removed]",
            "text/plain": [
              "<Figure size 600x400 with 2 Axes>"
            ]
          },
          "metadata": {},
          "output_type": "display_data"
        },
        {
          "name": "stdout",
          "output_type": "stream",
          "text": [
            "\n",
            "Overall Accuracy: 90.00%\n",
            "\n",
            "Classification Report:\n",
            "              precision    recall  f1-score   support\n",
            "\n",
            "           0       0.87      0.72      0.79        18\n",
            "           1       0.91      0.96      0.93        52\n",
            "\n",
            "    accuracy                           0.90        70\n",
            "   macro avg       0.89      0.84      0.86        70\n",
            "weighted avg       0.90      0.90      0.90        70\n",
            "\n",
            "\n",
            "Accuracy: 90.00%\n",
            "Sensitivity: 96.15%\n",
            "Specificity: 72.22%\n"
          ]
        }
      ],
      "source": [
        "lr_model = LogisticRegression(random_state=42, solver='liblinear') # Added solver for potential convergence issues\n",
        "lr_model.fit(X_train, y_train)\n",
        "y_test_pred_lr = lr_model.predict(X_test)\n",
        "evaluate_classification_model(y_test, y_test_pred_lr)"
      ]
    },
    {
      "cell_type": "markdown",
      "metadata": {},
      "source": [
        "## K-Nearest Neighbors Classification"
      ]
    },
    {
      "cell_type": "code",
      "execution_count": 101,
      "metadata": {},
      "outputs": [
        {
          "name": "stdout",
          "output_type": "stream",
          "text": [
            "Confusion Matrix:\n",
            "[[10  8]\n",
            " [ 3 49]]\n"
          ]
        },
        {
          "data": {
            "image/png": "[encoded data removed]",
            "text/plain": [
              "<Figure size 600x400 with 2 Axes>"
            ]
          },
          "metadata": {},
          "output_type": "display_data"
        },
        {
          "name": "stdout",
          "output_type": "stream",
          "text": [
            "\n",
            "Overall Accuracy: 84.29%\n",
            "\n",
            "Classification Report:\n",
            "              precision    recall  f1-score   support\n",
            "\n",
            "           0       0.77      0.56      0.65        18\n",
            "           1       0.86      0.94      0.90        52\n",
            "\n",
            "    accuracy                           0.84        70\n",
            "   macro avg       0.81      0.75      0.77        70\n",
            "weighted avg       0.84      0.84      0.83        70\n",
            "\n",
            "\n",
            "Accuracy: 84.29%\n",
            "Sensitivity: 94.23%\n",
            "Specificity: 55.56%\n"
          ]
        }
      ],
      "source": [
        "kn_model = KNeighborsClassifier()\n",
        "kn_model.fit(X_train, y_train)\n",
        "y_test_pred_kn = kn_model.predict(X_test)\n",
        "evaluate_classification_model(y_test, y_test_pred_kn)"
      ]
    },
    {
      "cell_type": "markdown",
      "metadata": {},
      "source": [
        "## Decision Tree"
      ]
    },
    {
      "cell_type": "code",
      "execution_count": 102,
      "metadata": {
        "colab": {
          "base_uri": "https://localhost:8080/",
          "height": 757
        },
        "id": "IfmxIQyKnE8Z",
        "outputId": "ab008a0e-db24-4476-cceb-a667d871fc83"
      },
      "outputs": [
        {
          "name": "stdout",
          "output_type": "stream",
          "text": [
            "Confusion Matrix:\n",
            "[[ 8 10]\n",
            " [ 5 47]]\n"
          ]
        },
        {
          "data": {
            "image/png": "[encoded data removed]",
            "text/plain": [
              "<Figure size 600x400 with 2 Axes>"
            ]
          },
          "metadata": {},
          "output_type": "display_data"
        },
        {
          "name": "stdout",
          "output_type": "stream",
          "text": [
            "\n",
            "Overall Accuracy: 78.57%\n",
            "\n",
            "Classification Report:\n",
            "              precision    recall  f1-score   support\n",
            "\n",
            "           0       0.62      0.44      0.52        18\n",
            "           1       0.82      0.90      0.86        52\n",
            "\n",
            "    accuracy                           0.79        70\n",
            "   macro avg       0.72      0.67      0.69        70\n",
            "weighted avg       0.77      0.79      0.77        70\n",
            "\n",
            "\n",
            "Accuracy: 78.57%\n",
            "Sensitivity: 90.38%\n",
            "Specificity: 44.44%\n"
          ]
        }
      ],
      "source": [
        "dt_model = DecisionTreeClassifier(random_state=42)\n",
        "dt_model.fit(X_train, y_train)\n",
        "y_test_pred_dt = dt_model.predict(X_test)\n",
        "evaluate_classification_model(y_test, y_test_pred_dt)"
      ]
    },
    {
      "cell_type": "markdown",
      "metadata": {},
      "source": [
        "## Random Forest"
      ]
    },
    {
      "cell_type": "code",
      "execution_count": 103,
      "metadata": {
        "colab": {
          "base_uri": "https://localhost:8080/",
          "height": 757
        },
        "id": "9FM4VmJNn_h3",
        "outputId": "4ed97c63-6bc2-49b7-c5ff-07c2d0f964b3"
      },
      "outputs": [
        {
          "name": "stdout",
          "output_type": "stream",
          "text": [
            "Confusion Matrix:\n",
            "[[ 9  9]\n",
            " [ 0 52]]\n"
          ]
        },
        {
          "data": {
            "image/png": "[encoded data removed]",
            "text/plain": [
              "<Figure size 600x400 with 2 Axes>"
            ]
          },
          "metadata": {},
          "output_type": "display_data"
        },
        {
          "name": "stdout",
          "output_type": "stream",
          "text": [
            "\n",
            "Overall Accuracy: 87.14%\n",
            "\n",
            "Classification Report:\n",
            "              precision    recall  f1-score   support\n",
            "\n",
            "           0       1.00      0.50      0.67        18\n",
            "           1       0.85      1.00      0.92        52\n",
            "\n",
            "    accuracy                           0.87        70\n",
            "   macro avg       0.93      0.75      0.79        70\n",
            "weighted avg       0.89      0.87      0.86        70\n",
            "\n",
            "\n",
            "Accuracy: 87.14%\n",
            "Sensitivity: 100.00%\n",
            "Specificity: 50.00%\n"
          ]
        }
      ],
      "source": [
        "rf_model = RandomForestClassifier(n_estimators=100, random_state=42)\n",
        "rf_model.fit(X_train, y_train)\n",
        "y_test_pred_rf = rf_model.predict(X_test)\n",
        "evaluate_classification_model(y_test, y_test_pred_rf)"
      ]
    },
    {
      "cell_type": "markdown",
      "metadata": {},
      "source": [
        "## Suport Vector Machine"
      ]
    },
    {
      "cell_type": "code",
      "execution_count": 104,
      "metadata": {
        "colab": {
          "base_uri": "https://localhost:8080/",
          "height": 757
        },
        "id": "LYOrFKUjo_V8",
        "outputId": "32831778-17ac-41a7-ddd8-0c68fe9475f5"
      },
      "outputs": [
        {
          "name": "stdout",
          "output_type": "stream",
          "text": [
            "Confusion Matrix:\n",
            "[[ 0 18]\n",
            " [ 0 52]]\n"
          ]
        },
        {
          "data": {
            "image/png": "[encoded data removed]",
            "text/plain": [
              "<Figure size 600x400 with 2 Axes>"
            ]
          },
          "metadata": {},
          "output_type": "display_data"
        },
        {
          "name": "stdout",
          "output_type": "stream",
          "text": [
            "\n",
            "Overall Accuracy: 74.29%\n",
            "\n",
            "Classification Report:\n",
            "              precision    recall  f1-score   support\n",
            "\n",
            "           0       0.00      0.00      0.00        18\n",
            "           1       0.74      1.00      0.85        52\n",
            "\n",
            "    accuracy                           0.74        70\n",
            "   macro avg       0.37      0.50      0.43        70\n",
            "weighted avg       0.55      0.74      0.63        70\n",
            "\n",
            "\n",
            "Accuracy: 74.29%\n",
            "Sensitivity: 100.00%\n",
            "Specificity: 0.00%\n"
          ]
        },
        {
          "name": "stderr",
          "output_type": "stream",
          "text": [
            "c:\\Users\\prajw\\OneDrive\\Documents\\VS Code\\Pancreatic Cancer Detection\\.venv\\Lib\\site-packages\\sklearn\\metrics\\_classification.py:1731: UndefinedMetricWarning: Precision is ill-defined and being set to 0.0 in labels with no predicted samples. Use `zero_division` parameter to control this behavior.\n",
            "  _warn_prf(average, modifier, f\"{metric.capitalize()} is\", result.shape[0])\n",
            "c:\\Users\\prajw\\OneDrive\\Documents\\VS Code\\Pancreatic Cancer Detection\\.venv\\Lib\\site-packages\\sklearn\\metrics\\_classification.py:1731: UndefinedMetricWarning: Precision is ill-defined and being set to 0.0 in labels with no predicted samples. Use `zero_division` parameter to control this behavior.\n",
            "  _warn_prf(average, modifier, f\"{metric.capitalize()} is\", result.shape[0])\n",
            "c:\\Users\\prajw\\OneDrive\\Documents\\VS Code\\Pancreatic Cancer Detection\\.venv\\Lib\\site-packages\\sklearn\\metrics\\_classification.py:1731: UndefinedMetricWarning: Precision is ill-defined and being set to 0.0 in labels with no predicted samples. Use `zero_division` parameter to control this behavior.\n",
            "  _warn_prf(average, modifier, f\"{metric.capitalize()} is\", result.shape[0])\n"
          ]
        }
      ],
      "source": [
        "SVC_model = SVC(kernel='rbf', random_state=42)\n",
        "SVC_model.fit(X_train, y_train)\n",
        "y_test_pred_SVC = SVC_model.predict(X_test)\n",
        "evaluate_classification_model(y_test, y_test_pred_SVC)"
      ]
    },
    {
      "cell_type": "markdown",
      "metadata": {},
      "source": [
        "## Naive Bayes"
      ]
    },
    {
      "cell_type": "code",
      "execution_count": 105,
      "metadata": {
        "colab": {
          "base_uri": "https://localhost:8080/",
          "height": 757
        },
        "id": "qxDyttJaqTWy",
        "outputId": "249c0029-8c0b-4727-e8bf-e4282d6ce7ca"
      },
      "outputs": [
        {
          "name": "stdout",
          "output_type": "stream",
          "text": [
            "Confusion Matrix:\n",
            "[[16  2]\n",
            " [11 41]]\n"
          ]
        },
        {
          "data": {
            "image/png": "[encoded data removed]",
            "text/plain": [
              "<Figure size 600x400 with 2 Axes>"
            ]
          },
          "metadata": {},
          "output_type": "display_data"
        },
        {
          "name": "stdout",
          "output_type": "stream",
          "text": [
            "\n",
            "Overall Accuracy: 81.43%\n",
            "\n",
            "Classification Report:\n",
            "              precision    recall  f1-score   support\n",
            "\n",
            "           0       0.59      0.89      0.71        18\n",
            "           1       0.95      0.79      0.86        52\n",
            "\n",
            "    accuracy                           0.81        70\n",
            "   macro avg       0.77      0.84      0.79        70\n",
            "weighted avg       0.86      0.81      0.82        70\n",
            "\n",
            "\n",
            "Accuracy: 81.43%\n",
            "Sensitivity: 78.85%\n",
            "Specificity: 88.89%\n"
          ]
        }
      ],
      "source": [
        "nb_model = GaussianNB()\n",
        "nb_model.fit(X_train, y_train)\n",
        "y_test_pred_nb = nb_model.predict(X_test)\n",
        "evaluate_classification_model(y_test, y_test_pred_nb)"
      ]
    },
    {
      "cell_type": "markdown",
      "metadata": {},
      "source": [
        "## XGBoost"
      ]
    },
    {
      "cell_type": "code",
      "execution_count": 106,
      "metadata": {
        "colab": {
          "base_uri": "https://localhost:8080/",
          "height": 844
        },
        "id": "mjUxoDQa0ekQ",
        "outputId": "a14d6ff8-a07d-4bb6-e282-b1fad5d315e3"
      },
      "outputs": [
        {
          "name": "stderr",
          "output_type": "stream",
          "text": [
            "c:\\Users\\prajw\\OneDrive\\Documents\\VS Code\\Pancreatic Cancer Detection\\.venv\\Lib\\site-packages\\xgboost\\training.py:183: UserWarning: [19:22:23] WARNING: C:\\actions-runner\\_work\\xgboost\\xgboost\\src\\learner.cc:738: \n",
            "Parameters: { \"use_label_encoder\" } are not used.\n",
            "\n",
            "  bst.update(dtrain, iteration=i, fobj=obj)\n"
          ]
        },
        {
          "name": "stdout",
          "output_type": "stream",
          "text": [
            "Evaluation on Test Data (XGBoost):\n",
            "Confusion Matrix:\n",
            "[[10  8]\n",
            " [ 1 51]]\n"
          ]
        },
        {
          "data": {
            "image/png": "[encoded data removed]",
            "text/plain": [
              "<Figure size 600x400 with 2 Axes>"
            ]
          },
          "metadata": {},
          "output_type": "display_data"
        },
        {
          "name": "stdout",
          "output_type": "stream",
          "text": [
            "\n",
            "Overall Accuracy: 87.14%\n",
            "\n",
            "Classification Report:\n",
            "              precision    recall  f1-score   support\n",
            "\n",
            "           0       0.91      0.56      0.69        18\n",
            "           1       0.86      0.98      0.92        52\n",
            "\n",
            "    accuracy                           0.87        70\n",
            "   macro avg       0.89      0.77      0.80        70\n",
            "weighted avg       0.88      0.87      0.86        70\n",
            "\n",
            "\n",
            "Accuracy: 87.14%\n",
            "Sensitivity: 98.08%\n",
            "Specificity: 55.56%\n"
          ]
        }
      ],
      "source": [
        "xgb_model = XGBClassifier(use_label_encoder=False, eval_metric='logloss', random_state=42)\n",
        "xgb_model.fit(X_train, y_train)\n",
        "y_test_pred_xgb = xgb_model.predict(X_test)\n",
        "print(\"Evaluation on Test Data (XGBoost):\")\n",
        "evaluate_classification_model(y_test, y_test_pred_xgb)"
      ]
    },
    {
      "cell_type": "markdown",
      "metadata": {},
      "source": [
        "## XGBoost (Tuned Hyperparameters and with RandomizedSearchCV)"
      ]
    },
    {
      "cell_type": "code",
      "execution_count": 107,
      "metadata": {
        "colab": {
          "base_uri": "https://localhost:8080/",
          "height": 1000
        },
        "id": "KVWsAiBR1aHw",
        "outputId": "74bdea7d-112e-4094-ccea-902926195f8f"
      },
      "outputs": [
        {
          "name": "stdout",
          "output_type": "stream",
          "text": [
            "\n",
            "--- Starting RandomizedSearchCV for XGBoost on Training Data ---\n",
            "Fitting RandomizedSearchCV for XGBoost on X_train, y_train...\n",
            "Fitting 10 folds for each of 500 candidates, totalling 5000 fits\n",
            "RandomizedSearchCV finished.\n",
            "\n",
            "Best parameters found by RandomizedSearchCV: {'colsample_bytree': np.float64(0.9683489602127253), 'gamma': np.float64(0.30538979927431875), 'learning_rate': np.float64(0.05637552962944075), 'max_depth': 3, 'n_estimators': 107, 'reg_alpha': np.float64(7.482596903836583), 'reg_lambda': np.float64(18.552101935637733), 'subsample': np.float64(0.6837397293346841)}\n",
            "\n",
            "Best cross-validation accuracy: 0.8750\n",
            "\n",
            "--- Evaluating Best XGBoost Model (from RandomizedSearchCV) on Independent Test Set ---\n",
            "Confusion Matrix:\n",
            "[[ 9  9]\n",
            " [ 0 52]]\n"
          ]
        },
        {
          "name": "stderr",
          "output_type": "stream",
          "text": [
            "c:\\Users\\prajw\\OneDrive\\Documents\\VS Code\\Pancreatic Cancer Detection\\.venv\\Lib\\site-packages\\xgboost\\training.py:183: UserWarning: [19:22:59] WARNING: C:\\actions-runner\\_work\\xgboost\\xgboost\\src\\learner.cc:738: \n",
            "Parameters: { \"use_label_encoder\" } are not used.\n",
            "\n",
            "  bst.update(dtrain, iteration=i, fobj=obj)\n"
          ]
        },
        {
          "data": {
            "image/png": "[encoded data removed]",
            "text/plain": [
              "<Figure size 600x400 with 2 Axes>"
            ]
          },
          "metadata": {},
          "output_type": "display_data"
        },
        {
          "name": "stdout",
          "output_type": "stream",
          "text": [
            "\n",
            "Overall Accuracy: 87.14%\n",
            "\n",
            "Classification Report:\n",
            "              precision    recall  f1-score   support\n",
            "\n",
            "           0       1.00      0.50      0.67        18\n",
            "           1       0.85      1.00      0.92        52\n",
            "\n",
            "    accuracy                           0.87        70\n",
            "   macro avg       0.93      0.75      0.79        70\n",
            "weighted avg       0.89      0.87      0.86        70\n",
            "\n",
            "\n",
            "Accuracy: 87.14%\n",
            "Sensitivity: 100.00%\n",
            "Specificity: 50.00%\n"
          ]
        }
      ],
      "source": [
        "n_splits = 10\n",
        "kf = KFold(n_splits=n_splits, shuffle=True, random_state=42)\n",
        "\n",
        "print(\"\\n--- Starting RandomizedSearchCV for XGBoost on Training Data ---\")\n",
        "\n",
        "param_dist_xgb = {\n",
        "    'n_estimators': randint(100, 1000),\n",
        "    'learning_rate': uniform(0.001, 0.2),\n",
        "    'max_depth': randint(3, 10),\n",
        "    'subsample': uniform(0.6, 0.4),\n",
        "    'colsample_bytree': uniform(0.6, 0.4),\n",
        "    'gamma': uniform(0, 5),\n",
        "    'reg_alpha': uniform(0, 10),\n",
        "    'reg_lambda': uniform(0.1, 100)\n",
        "}\n",
        "\n",
        "xgb_base_model = XGBClassifier(use_label_encoder=False, eval_metric='logloss', random_state=42)\n",
        "\n",
        "scorers = {\n",
        "    'accuracy_score': make_scorer(accuracy_score),\n",
        "    'recall_score': make_scorer(recall_score),\n",
        "    'precision_score': make_scorer(precision_score),\n",
        "    'f1_score': make_scorer(f1_score),\n",
        "    'roc_auc_score': make_scorer(roc_auc_score)\n",
        "}\n",
        "\n",
        "random_search_xgb = RandomizedSearchCV(\n",
        "    estimator=xgb_base_model, \n",
        "    param_distributions=param_dist_xgb,\n",
        "    n_iter=500,\n",
        "    scoring=scorers,\n",
        "    refit='accuracy_score',\n",
        "    cv=kf,\n",
        "    verbose=2,\n",
        "    random_state=42,\n",
        "    n_jobs=-1\n",
        ")\n",
        "\n",
        "print(\"Fitting RandomizedSearchCV for XGBoost on X_train, y_train...\")\n",
        "random_search_xgb.fit(X_train, y_train)\n",
        "print(\"RandomizedSearchCV finished.\")\n",
        "\n",
        "best_params_xgb = random_search_xgb.best_params_\n",
        "best_xgb_model = random_search_xgb.best_estimator_\n",
        "\n",
        "print(f\"\\nBest parameters found by RandomizedSearchCV: {best_params_xgb}\")\n",
        "print(f\"\\nBest cross-validation accuracy: {random_search_xgb.best_score_:.4f}\")\n",
        "\n",
        "print(\"\\n--- Evaluating Best XGBoost Model (from RandomizedSearchCV) on Independent Test Set ---\")\n",
        "y_test_pred_best_xgb = best_xgb_model.predict(X_test)\n",
        "\n",
        "evaluate_classification_model(y_test, y_test_pred_best_xgb)"
      ]
    }
  ],
  "metadata": {
    "colab": {
      "provenance": []
    },
    "kernelspec": {
      "display_name": ".venv",
      "language": "python",
      "name": "python3"
    },
    "language_info": {
      "codemirror_mode": {
        "name": "ipython",
        "version": 3
      },
      "file_extension": ".py",
      "mimetype": "text/x-python",
      "name": "python",
      "nbconvert_exporter": "python",
      "pygments_lexer": "ipython3",
      "version": "3.12.10"
    }
  },
  "nbformat": 4,
  "nbformat_minor": 0
}
